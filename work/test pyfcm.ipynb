{
 "cells": [
  {
   "cell_type": "code",
   "execution_count": 1,
   "metadata": {
    "collapsed": true
   },
   "outputs": [],
   "source": [
    "import sys"
   ]
  },
  {
   "cell_type": "code",
   "execution_count": 2,
   "metadata": {},
   "outputs": [
    {
     "data": {
      "text/plain": [
       "['/home/chihyu_lin/pinkoi/FCM/lib/python2.7/site-packages',\n",
       " '',\n",
       " '/home/chihyu_lin/pinkoi',\n",
       " '/usr/lib/python2.7',\n",
       " '/usr/lib/python2.7/plat-linux2',\n",
       " '/usr/lib/python2.7/lib-tk',\n",
       " '/usr/lib/python2.7/lib-old',\n",
       " '/usr/lib/python2.7/lib-dynload',\n",
       " '/home/chihyu_lin/.local/lib/python2.7/site-packages',\n",
       " '/usr/local/lib/python2.7/dist-packages',\n",
       " '/usr/local/lib/python2.7/dist-packages/PIL',\n",
       " '/usr/local/lib/python2.7/dist-packages/geeknote-0.2a0-py2.7.egg',\n",
       " '/usr/local/lib/python2.7/dist-packages/html2text-2016.9.19-py2.7.egg',\n",
       " '/usr/local/lib/python2.7/dist-packages/evernote-1.25.2-py2.7.egg',\n",
       " '/usr/local/lib/python2.7/dist-packages/xlsx2csv-0.7.2-py2.7.egg',\n",
       " '/usr/local/lib/python2.7/dist-packages/mysqlclient-1.3.12-py2.7-linux-x86_64.egg',\n",
       " '/usr/lib/python2.7/dist-packages',\n",
       " '/usr/lib/python2.7/dist-packages/gtk-2.0',\n",
       " '/usr/lib/pymodules/python2.7',\n",
       " '/usr/local/lib/python2.7/dist-packages/IPython/extensions',\n",
       " '/home/chihyu_lin/.ipython']"
      ]
     },
     "execution_count": 2,
     "metadata": {},
     "output_type": "execute_result"
    }
   ],
   "source": [
    "sys.path.insert(0, '/home/chihyu_lin/pinkoi/FCM/lib/python2.7/site-packages')\n",
    "sys.path"
   ]
  },
  {
   "cell_type": "code",
   "execution_count": 3,
   "metadata": {
    "collapsed": true
   },
   "outputs": [],
   "source": [
    "from pyfcm import FCMNotification"
   ]
  },
  {
   "cell_type": "code",
   "execution_count": 4,
   "metadata": {
    "collapsed": true
   },
   "outputs": [],
   "source": [
    "api_key = 'AAAAm7NE4pQ:APA91bEX6u3F9QsBSmMaY8-ZZxufIACyDucCZyfQ9r2aRHtXnHi_GxD8sIs0alWGTm0LY1v2oOhgpv_Y-3e4kZxYQDBat1H27t04AV3QlEjm8WnqWp-U14j2GlAe3TKRYWckH1Hdy_J6d9mnvKpwZsP0454cN-bang'\n",
    "push_service = FCMNotification(api_key=api_key)\n",
    "dry_run=True"
   ]
  },
  {
   "cell_type": "code",
   "execution_count": 5,
   "metadata": {
    "collapsed": true
   },
   "outputs": [],
   "source": [
    "message_body = 'test message body'\n",
    "message_title = 'test message title'\n",
    "data_message = {\n",
    "    'value': 'https://www.chihyulin.office.pinkoi.com/magz/aNw4UbR4',\n",
    "    'message': u'哈哈'\n",
    "}"
   ]
  },
  {
   "cell_type": "code",
   "execution_count": 6,
   "metadata": {
    "collapsed": true
   },
   "outputs": [],
   "source": [
    "reg_id = 'fIyZoaM3Ml4:APA91bHISPyvfNx3DW4qS8BVxdmgMBtAuTS0xePkiYFYv97RYrZ4_H3QpffzRlPZSfd0Q5ES2V12XyNMDF9fpuF4M6PDxLt_0bEKbz4k9Aj7VIWLQDV-jpALqq8R6Fkp3NNN2EN3eAEc'"
   ]
  },
  {
   "cell_type": "code",
   "execution_count": 7,
   "metadata": {},
   "outputs": [
    {
     "data": {
      "text/plain": [
       "{'canonical_ids': 0,\n",
       " 'failure': 0,\n",
       " 'multicast_ids': [-1],\n",
       " 'results': [{u'message_id': u'fake_message_id'}],\n",
       " 'success': 1,\n",
       " 'topic_message_id': None}"
      ]
     },
     "execution_count": 7,
     "metadata": {},
     "output_type": "execute_result"
    }
   ],
   "source": [
    "push_service.notify_single_device(reg_id, data_message=data_message, dry_run=dry_run)\n",
    "#如果send notification，沒有message_title, message_body, 只有 data_message, 效果和 send message 相同"
   ]
  },
  {
   "cell_type": "code",
   "execution_count": 8,
   "metadata": {},
   "outputs": [
    {
     "data": {
      "text/plain": [
       "{'canonical_ids': 0,\n",
       " 'failure': 0,\n",
       " 'multicast_ids': [-1],\n",
       " 'results': [{u'message_id': u'fake_message_id'}],\n",
       " 'success': 1,\n",
       " 'topic_message_id': None}"
      ]
     },
     "execution_count": 8,
     "metadata": {},
     "output_type": "execute_result"
    }
   ],
   "source": [
    "push_service.multiple_devices_data_message(registration_ids=[reg_id], data_message=data_message, dry_run=dry_run)"
   ]
  },
  {
   "cell_type": "code",
   "execution_count": 9,
   "metadata": {},
   "outputs": [
    {
     "data": {
      "text/plain": [
       "True"
      ]
     },
     "execution_count": 9,
     "metadata": {},
     "output_type": "execute_result"
    }
   ],
   "source": [
    "#訂閱\n",
    "topic_name = 'test_fcm_topic'\n",
    "push_service.subscribe_registration_ids_to_topic([reg_id], topic_name)\n"
   ]
  },
  {
   "cell_type": "code",
   "execution_count": 10,
   "metadata": {},
   "outputs": [
    {
     "data": {
      "text/plain": [
       "{'canonical_ids': 0,\n",
       " 'failure': 0,\n",
       " 'multicast_ids': [],\n",
       " 'results': [],\n",
       " 'success': 1,\n",
       " 'topic_message_id': -1}"
      ]
     },
     "execution_count": 10,
     "metadata": {},
     "output_type": "execute_result"
    }
   ],
   "source": [
    "# 測試 topic 送 data_message，結果和 send message 一樣!\n",
    "push_service.notify_topic_subscribers(topic_name=topic_name, data_message=data_message, dry_run=dry_run)"
   ]
  },
  {
   "cell_type": "code",
   "execution_count": 21,
   "metadata": {},
   "outputs": [
    {
     "data": {
      "text/plain": [
       "True"
      ]
     },
     "execution_count": 21,
     "metadata": {},
     "output_type": "execute_result"
    }
   ],
   "source": [
    "#取消訂閱\n",
    "push_service.unsubscribe_registration_ids_from_topic([reg_id], topic_name)"
   ]
  },
  {
   "cell_type": "code",
   "execution_count": 18,
   "metadata": {},
   "outputs": [
    {
     "data": {
      "text/plain": [
       "{u'appSigner': u'bd7d19d8730b5c3e71100279a9271419209a5de4',\n",
       " u'application': u'com.pinkoi.beta.dev',\n",
       " u'applicationVersion': u'311',\n",
       " u'attestStatus': u'NOT_ROOTED',\n",
       " u'authorizedEntity': u'668727566996',\n",
       " u'connectDate': u'2018-04-15',\n",
       " u'connectionType': u'MOBILE',\n",
       " u'platform': u'ANDROID',\n",
       " u'scope': u'*'}"
      ]
     },
     "execution_count": 18,
     "metadata": {},
     "output_type": "execute_result"
    }
   ],
   "source": [
    "push_service.get_registration_id_info(reg_id)"
   ]
  },
  {
   "cell_type": "code",
   "execution_count": 17,
   "metadata": {},
   "outputs": [
    {
     "name": "stdout",
     "output_type": "stream",
     "text": [
      "[u'test_fcm_topic_2', u'test_fcm_topic']\n"
     ]
    }
   ],
   "source": [
    "# get all topic\n",
    "info = push_service.get_registration_id_info(reg_id)\n",
    "if 'topics' in info.get('rel', {}):\n",
    "    topics = info['rel']['topics'].keys()\n",
    "    print topics\n",
    "    for topic in topics:\n",
    "        push_service.unsubscribe_registration_ids_from_topic([reg_id], topic)"
   ]
  },
  {
   "cell_type": "code",
   "execution_count": null,
   "metadata": {
    "collapsed": true
   },
   "outputs": [],
   "source": []
  }
 ],
 "metadata": {
  "kernelspec": {
   "display_name": "Pinkoi",
   "language": "python",
   "name": "pinkoi"
  },
  "language_info": {
   "codemirror_mode": {
    "name": "ipython",
    "version": 2
   },
   "file_extension": ".py",
   "mimetype": "text/x-python",
   "name": "python",
   "nbconvert_exporter": "python",
   "pygments_lexer": "ipython2",
   "version": "2.7.3"
  }
 },
 "nbformat": 4,
 "nbformat_minor": 2
}
