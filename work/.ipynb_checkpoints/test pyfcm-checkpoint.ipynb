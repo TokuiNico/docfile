{
 "cells": [
  {
   "cell_type": "code",
   "execution_count": 1,
   "metadata": {
    "collapsed": true
   },
   "outputs": [],
   "source": [
    "import sys"
   ]
  },
  {
   "cell_type": "code",
   "execution_count": 2,
   "metadata": {
    "collapsed": true
   },
   "outputs": [],
   "source": []
  },
  {
   "cell_type": "code",
   "execution_count": 3,
   "metadata": {},
   "outputs": [
    {
     "name": "stderr",
     "output_type": "stream",
     "text": [
      ">>>push!!!\n",
      ">>>succuss!!!\n"
     ]
    },
    {
     "data": {
      "text/plain": [
       "{u'd2C1ZTRT2K4:APA91bHigLFazD4zVLe6fgkymYmeWVTt2f8fjuM_Wdq_kOrXfXHOjtfUZ5ewL4ULi_tuAhT478Wj2jPrAbKWzZtKZMTqAILjs2chYu1lYr_fmCLyF2pR5OS3zwrrrs36lprzawcHVUE1',\n",
       " u'dvKjOclFwk8:APA91bG_1wyhwpBRdnsdZG-yWw2OKCIPD2fo6kBFgZ8R0Fdc4vYvCXxviSkal4hCwgXgVsEld1IzWxeT1pBZFs7btyu7aW8CLabXzbS5u7h00imXU9jha83nILnoC-iMEITAzy-gnmhZ',\n",
       " u'fIyZoaM3Ml4:APA91bHISPyvfNx3DW4qS8BVxdmgMBtAuTS0xePkiYFYv97RYrZ4_H3QpffzRlPZSfd0Q5ES2V12XyNMDF9fpuF4M6PDxLt_0bEKbz4k9Aj7VIWLQDV-jpALqq8R6Fkp3NNN2EN3eAEc',\n",
       " u'fJfeM5qjB7I:APA91bE-AmRLs7cf03LjiqqCpn6zBIq2L2_6bmfoQ1-3SRAAU2Kuzxrlj0spLAgpaodR8Lmi_OgzJbaSlNsEQMn0TuvWo1QyZBnYtPcWw4-REHnWOqfadj1Lt7_MQtZcNAU1HeuV7Xxb',\n",
       " u'fMOSXMZ6Ef0:APA91bEH9vsp5ISby2e696F9BULFye2TprTH08Ci-nIIlYITtVD9pjDeR0mxLA4RA5RFMew7bGuuUXhwV6Umhw5tgZwHvriZboKs-hjUHNsKChV1UB76hCNALS-yD4Js1cwp7Ye8fjzw',\n",
       " u'foZ7CBDKAxo:APA91bFAfMBKd5eoF85Y6DeMB6X0S9LcD4TpHDxTVgubibpo_nMgCQSEEp0s3r7M69Vg6WmMd3NGp4JvYmAuG1Gs5jo7iD4N-QzdHWFg7kg_s8w1A1Ze6jw5UzAo-_rhPuWCowyCYVR9'}"
      ]
     },
     "execution_count": 3,
     "metadata": {},
     "output_type": "execute_result"
    }
   ],
   "source": [
    "send(uid=uid, payload=payload)"
   ]
  },
  {
   "cell_type": "code",
   "execution_count": null,
   "metadata": {
    "collapsed": true
   },
   "outputs": [],
   "source": []
  }
 ],
 "metadata": {
  "kernelspec": {
   "display_name": "Pinkoi",
   "language": "python",
   "name": "pinkoi"
  },
  "language_info": {
   "codemirror_mode": {
    "name": "ipython",
    "version": 2
   },
   "file_extension": ".py",
   "mimetype": "text/x-python",
   "name": "python",
   "nbconvert_exporter": "python",
   "pygments_lexer": "ipython2",
   "version": "2.7.3"
  }
 },
 "nbformat": 4,
 "nbformat_minor": 2
}
