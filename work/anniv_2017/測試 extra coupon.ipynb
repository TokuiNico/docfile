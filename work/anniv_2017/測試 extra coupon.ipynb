{
 "cells": [
  {
   "cell_type": "markdown",
   "metadata": {},
   "source": [
    "# 測試 extra coupon"
   ]
  },
  {
   "cell_type": "code",
   "execution_count": 1,
   "metadata": {},
   "outputs": [
    {
     "name": "stdout",
     "output_type": "stream",
     "text": [
      "/home/chihyu_lin/pinkoi\n"
     ]
    }
   ],
   "source": [
    "cd ~/pinkoi/"
   ]
  },
  {
   "cell_type": "code",
   "execution_count": 2,
   "metadata": {
    "collapsed": true
   },
   "outputs": [],
   "source": [
    "from pinkoi.models.Order import Order\n",
    "from pinkoi.models.User import User\n",
    "from pinkoi.base.campaign.anniversary_2017 import issue_coupon\n",
    "from datetime import datetime\n",
    "from pinkoi.models.Coupon import Coupon\n",
    "from pinkoi.base.campaign import anniversary_2017_message as anniv_2017_msg\n",
    "from pinkoi.lib.locale import activate, deactivate, Translate"
   ]
  },
  {
   "cell_type": "code",
   "execution_count": 3,
   "metadata": {},
   "outputs": [
    {
     "name": "stderr",
     "output_type": "stream",
     "text": [
      "- - - [24/Nov/2017:18:26:52 +0800] - - - - - [SQL] \"0.002s\" \"SELECT\t                oid,\t                seller,\t                account,\t                shipping,\t                handling,\t                deductible,\t                coupon_deduct,\t                reward_deduct,\t                giftcard_deduct,\t                coupon_credit,\t                payment_fee,\t                total,\t                coupon,\t                giftcard,\t                buyer,\t                name,\t                address,\t                zipcode,\t                sevenstore,\t                tel,\t                pincode,\t                bname,\t                btel,\t                baddress,\t                bzipcode,\t                tracking,\t                reason AS canceled_reason,\t                taxid,\t                taxtitle,\t                message,\t                memo,\t                payment_method,\t                device,\t                campaign,\t                IFNULL(currency, 'TWD') as currency,\t                IFNULL(payment_currency, IF(account='ALIPAY', 'USD', 'TWD')) as payment_currency,\t                payment_total,\t                min(unix_timestamp(canceled)) as order_canceled,\t                unix_timestamp(created) AS created,\t                unix_timestamp(canceled) AS canceled,\t                unix_timestamp(paid) AS paid,\t                unix_timestamp(scheduled) AS scheduled,\t                unix_timestamp(shipped) AS shipped,\t                unix_timestamp(received) AS received,\t                unix_timestamp(closed) AS closed,\t                unix_timestamp(sreviewed) AS sreviewed,\t                unix_timestamp(breviewed) AS breviewed,\t                sum(quantity * price) AS subtotal,\t                sum(quantity * oprice) AS oprice_total,\t                count(oid) AS sku,\t                GROUP_CONCAT(item SEPARATOR '\u0000') AS items_tid,\t                GROUP_CONCAT(dummy SEPARATOR '\u0000') AS items_dummy,\t                GROUP_CONCAT(price SEPARATOR '\u0000') AS items_price,\t                GROUP_CONCAT(oprice SEPARATOR '\u0000') AS items_oprice,\t                GROUP_CONCAT(quantity SEPARATOR '\u0000') AS items_quantity,\t                GROUP_CONCAT(seller SEPARATOR '\u0000') AS items_owner,\t                GROUP_CONCAT(IFNULL(variation, '') SEPARATOR '\u0000') AS items_variation,\t                GROUP_CONCAT(title SEPARATOR '\u0000') AS items_title,\t                GROUP_CONCAT(CONVERT(unix_timestamp(`canceled`), char(20)) SEPARATOR '\u0000') AS items_canceled\t                FROM orders\t                USE INDEX (orders_buyer, orders_seller, primary)\t                 WHERE (`oid` = '201710271813NYMq')\t                GROUP BY oid\t                \t                ORDER BY created DESC\t                LIMIT 0,10\"\n",
      "- - - [24/Nov/2017:18:26:52 +0800] - - - - - [SQL] \"0.003s\" \"SELECT `seller` AS `suid`, `buyer` AS `buid`, count(distinct oid) as count FROM `orders` WHERE `buyer` IN ('vegetable80923') AND `canceled` = 0 AND `seller` IN ('chihyu000') GROUP BY `seller`, `buyer`\"\n"
     ]
    },
    {
     "name": "stdout",
     "output_type": "stream",
     "text": [
      "/store\n",
      "/user\n",
      "/user\n",
      "2017-10-28 18:13:30\n",
      "NT$1,210\n"
     ]
    },
    {
     "name": "stderr",
     "output_type": "stream",
     "text": [
      "- - - [24/Nov/2017:18:26:53 +0800] - - - - - [SQL] \"0.001s\" \"select\t                oid,\t                unix_timestamp(requested),\t                unix_timestamp(agreed),\t                unix_timestamp(refunded),\t                unix_timestamp(disagreed),\t                unix_timestamp(closed)\t            from refund\t            where oid in ('201710271813NYMq')\"\n"
     ]
    }
   ],
   "source": [
    "order = Order.get_orders(oid=u'201710271813NYMq')[0]\n",
    "user = User('vegetable80923')\n",
    "\n",
    "print datetime.fromtimestamp(order['created'])\n",
    "print order['total'].formatted()"
   ]
  },
  {
   "cell_type": "code",
   "execution_count": 4,
   "metadata": {},
   "outputs": [
    {
     "name": "stdout",
     "output_type": "stream",
     "text": [
      "{'code': '@A3Ku', 'uid': u'vegetable80923', 'discount': 0, 'memo': 'anniversary_2017', 'credit': 100, 'activated': 0, 'onorder': 0, 'currency': 'TWD', 'valid': 1, 'onfollow': 0, 'rule': 'freeshipping', 'owner': 'pinkoi', 'deductible': 50, 'expired': datetime.datetime(2017, 12, 31, 23, 59, 59), 'condition': '{\"limit\": 1}'}\n"
     ]
    },
    {
     "name": "stderr",
     "output_type": "stream",
     "text": [
      "[mine] sql sql {'request_time_ms': 1, 'sql': 'INSERT INTO coupon (`code`,`uid`,`credit`,`memo`,`activated`,`onorder`,`currency`,`discount`,`valid`,`onfollow`,`rule`,`owner`,`deductible`,`expired`,`condition`) VALUES(\\'@A3Ku\\',\\'vegetable80923\\',100,\\'anniversary_2017\\',0,0,\\'TWD\\',0,1,0,\\'freeshipping\\',\\'pinkoi\\',50,\\'2017-12-31 23:59:59\\',\\'{\\\\\"limit\\\\\": 1}\\')'}\n",
      "- - - [24/Nov/2017:18:27:41 +0800] - - - - - [SQL] \"0.001s\" \"INSERT INTO coupon (`code`,`uid`,`credit`,`memo`,`activated`,`onorder`,`currency`,`discount`,`valid`,`onfollow`,`rule`,`owner`,`deductible`,`expired`,`condition`) VALUES('@A3Ku','vegetable80923',100,'anniversary_2017',0,0,'TWD',0,1,0,'freeshipping','pinkoi',50,'2017-12-31 23:59:59','{\\\"limit\\\": 1}')\"\n"
     ]
    },
    {
     "data": {
      "text/plain": [
       "\"\\nif coupon_d:\\n    for locale in ('zh_TW','ja', 'th', 'en', 'zh_CN'):\\n        with Translate(locale):\\n            user.set_locale(locale)\\n            anniv_2017_msg.send_extra_coupon_message('vegetable80923', 'test', 'ID')\\n\""
      ]
     },
     "execution_count": 4,
     "metadata": {},
     "output_type": "execute_result"
    }
   ],
   "source": [
    "country_code = 'TW'\n",
    "coupon_d = issue_coupon(order, 'TW')\n",
    "\n",
    "print coupon_d\n",
    "'''\n",
    "if coupon_d:\n",
    "    for locale in ('zh_TW','ja', 'th', 'en', 'zh_CN'):\n",
    "        with Translate(locale):\n",
    "            user.set_locale(locale)\n",
    "            anniv_2017_msg.send_extra_coupon_message('vegetable80923', 'test', 'ID')\n",
    "'''"
   ]
  },
  {
   "cell_type": "code",
   "execution_count": 7,
   "metadata": {},
   "outputs": [
    {
     "name": "stdout",
     "output_type": "stream",
     "text": [
      "/reward\n"
     ]
    },
    {
     "name": "stderr",
     "output_type": "stream",
     "text": [
      "- - - [30/Oct/2017:17:14:51 +0800] - - - - - [SQL] \"0.000s\" \"SELECT * FROM fx WHERE start=201710\"\n",
      "- - - [30/Oct/2017:17:14:51 +0800] - - - - - [SQL] \"0.000s\" \"SELECT * FROM campaign WHERE uid='chihyu000' and (start >= date_sub(20171001, interval 30 day) or end >= date(20171001))\"\n",
      "- - - [30/Oct/2017:17:14:51 +0800] - - - - - [SQL] \"0.000s\" \"SELECT * FROM service WHERE uid='chihyu000' and created >= date(20171001) and created < date(20171101)\"\n",
      "- - - [30/Oct/2017:17:14:51 +0800] - - - - - [SQL] \"0.001s\" \"SELECT\t                            oid,\t                            GROUP_CONCAT(item SEPARATOR '\u0000') AS items_tid,\t                            GROUP_CONCAT(quantity SEPARATOR '\u0000') AS items_quantity,\t                            GROUP_CONCAT(title SEPARATOR '\u0000') AS items_title,\t                            item,\t                            quantity,\t                            seller,\t                            buyer,\t                            payment_fee,\t                            payment_method,\t                            deductible,\t                            coupon,\t                            coupon_deduct,\t                            giftcard_deduct,\t                            reward_deduct,\t                            coupon_credit,\t                            sum(quantity*price) as subtotal,\t                            sum(quantity*oprice) as o_subtotal,\t                            handling,\t                            currency,\t                            total,\t                            payment_currency,\t                            payment_total,\t                            created\t                        FROM\t                            orders\t                        WHERE\t                            seller='chihyu000' AND  paid >= \"2016-03-01\" AND shipped >= date(20171001) AND shipped < date(20171101) AND shipped != 0 AND \t                            paid !=0 AND\t                            canceled = 0\t                        GROUP BY\t                            oid\t                        ORDER BY\t                            created ASC\"\n",
      "- - - [30/Oct/2017:17:14:51 +0800] - - - - - [SQL] \"0.000s\" \"SELECT `twd_service_fee` FROM `advocate_statistic` WHERE `month` = 10 AND `uid` = 'chihyu000' AND `year` = 2017 LIMIT 1\"\n",
      "- - - [30/Oct/2017:17:14:51 +0800] - - - - - [SQL] \"0.000s\" \"select paid from transaction where period = 201710 and uid = 'chihyu000' and paid > 0\"\n",
      "[mine] sql sql {'request_time_ms': 0, 'sql': 'INSERT INTO transaction (`payment_fee`,`fx_gain`,`vipbuyer`,`absorb`,`handling`,`fee_adjustment`,`period`,`bestseller`,`fee`,`freqbuyer`,`invoice_amt`,`balance`,`subtotal`,`subtotal_adjustment`,`vat`,`uid`) VALUES(0,0,\\'[[\\\\\"vegetable80923\\\\\", 2250, \\\\\"y5duPZtZ\\\\\"]]\\',50,0,0,201710,\\'[[\\\\\"y5duPZtZ\\\\\", 5]]\\',348,\\'[[\\\\\"vegetable80923\\\\\", 5, \\\\\"y5duPZtZ\\\\\"]]\\',315,1885,2250,0,17,\\'chihyu000\\') ON DUPLICATE KEY UPDATE\\n                        subtotal=2250, fee=348, vat=17, handling=0, absorb=50, payment_fee=0, balance=1885, subtotal_adjustment=0, fee_adjustment=0, fx_gain=0, bestseller=\\'[[\\\\\"y5duPZtZ\\\\\", 5]]\\', freqbuyer=\\'[[\\\\\"vegetable80923\\\\\", 5, \\\\\"y5duPZtZ\\\\\"]]\\', vipbuyer=\\'[[\\\\\"vegetable80923\\\\\", 2250, \\\\\"y5duPZtZ\\\\\"]]\\''}\n",
      "- - - [30/Oct/2017:17:14:51 +0800] - - - - - [SQL] \"0.000s\" \"INSERT INTO transaction (`payment_fee`,`fx_gain`,`vipbuyer`,`absorb`,`handling`,`fee_adjustment`,`period`,`bestseller`,`fee`,`freqbuyer`,`invoice_amt`,`balance`,`subtotal`,`subtotal_adjustment`,`vat`,`uid`) VALUES(0,0,'[[\\\"vegetable80923\\\", 2250, \\\"y5duPZtZ\\\"]]',50,0,0,201710,'[[\\\"y5duPZtZ\\\", 5]]',348,'[[\\\"vegetable80923\\\", 5, \\\"y5duPZtZ\\\"]]',315,1885,2250,0,17,'chihyu000') ON DUPLICATE KEY UPDATE\t                        subtotal=2250, fee=348, vat=17, handling=0, absorb=50, payment_fee=0, balance=1885, subtotal_adjustment=0, fee_adjustment=0, fx_gain=0, bestseller='[[\\\"y5duPZtZ\\\", 5]]', freqbuyer='[[\\\"vegetable80923\\\", 5, \\\"y5duPZtZ\\\"]]', vipbuyer='[[\\\"vegetable80923\\\", 2250, \\\"y5duPZtZ\\\"]]'\"\n",
      "- - - [30/Oct/2017:17:14:51 +0800] - - - - - [SQL] \"0.000s\" \"select points, records from reward where owner = 'vegetable80923' for update\"\n",
      "[mine] sql sql {'request_time_ms': 0, 'sql': \"insert into\\n                reward\\n            values\\n                ('vegetable80923', 1210, '{}', '2017-10-30 17:14:51', '2017-10-30 17:14:51')\\n            on duplicate key update\\n                points = points+1210, records = '{}'\"}\n",
      "- - - [30/Oct/2017:17:14:51 +0800] - - - - - [SQL] \"0.000s\" \"insert into\t                reward\t            values\t                ('vegetable80923', 1210, '{}', '2017-10-30 17:14:51', '2017-10-30 17:14:51')\t            on duplicate key update\t                points = points+1210, records = '{}'\"\n",
      "- - - [30/Oct/2017:17:14:51 +0800] - - - - - [SQL] \"0.000s\" \"select points, records from reward where owner = 'vegetable80923' for update\"\n",
      "[mine] sql sql {'request_time_ms': 0, 'sql': \"insert into\\n                reward\\n            values\\n                ('vegetable80923', 200, '{}', '2017-10-30 17:14:51', '2017-10-30 17:14:51')\\n            on duplicate key update\\n                points = points+200, records = '{}'\"}\n",
      "- - - [30/Oct/2017:17:14:51 +0800] - - - - - [SQL] \"0.000s\" \"insert into\t                reward\t            values\t                ('vegetable80923', 200, '{}', '2017-10-30 17:14:51', '2017-10-30 17:14:51')\t            on duplicate key update\t                points = points+200, records = '{}'\"\n",
      "- - - [30/Oct/2017:17:14:51 +0800] - - - - - [SQL] \"0.000s\" \"select currency from orders where buyer = 'vegetable80923' order by created limit 1\"\n",
      "- - - [30/Oct/2017:17:14:51 +0800] - - - - - [SQL] \"0.000s\" \"select\t                total,\t                currency\t            from orders\t            where\t                buyer = 'vegetable80923' and\t                paid > 0 and canceled = 0\t            group by\t                oid\"\n",
      "- - - [30/Oct/2017:17:14:51 +0800] - - - - - [SQL] \"0.000s\" \"select distinct key_\t            from vip_offers\t            where uid = 'vegetable80923' order by created\"\n"
     ]
    }
   ],
   "source": [
    "anniv_2017_msg.send_extra_coupon_message('vegetable80923', 'test', 'country_code')"
   ]
  },
  {
   "cell_type": "code",
   "execution_count": null,
   "metadata": {
    "collapsed": true
   },
   "outputs": [],
   "source": []
  }
 ],
 "metadata": {
  "kernelspec": {
   "display_name": "Pinkoi",
   "language": "python",
   "name": "pinkoi"
  },
  "language_info": {
   "codemirror_mode": {
    "name": "ipython",
    "version": 2
   },
   "file_extension": ".py",
   "mimetype": "text/x-python",
   "name": "python",
   "nbconvert_exporter": "python",
   "pygments_lexer": "ipython2",
   "version": "2.7.3"
  }
 },
 "nbformat": 4,
 "nbformat_minor": 2
}
