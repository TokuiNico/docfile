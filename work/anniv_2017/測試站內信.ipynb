{
 "cells": [
  {
   "cell_type": "markdown",
   "metadata": {},
   "source": [
    "# 測試站內信 #"
   ]
  },
  {
   "cell_type": "code",
   "execution_count": 1,
   "metadata": {},
   "outputs": [
    {
     "name": "stdout",
     "output_type": "stream",
     "text": [
      "/home/chihyu_lin/pinkoi\n"
     ]
    }
   ],
   "source": [
    "cd /home/chihyu_lin/pinkoi"
   ]
  },
  {
   "cell_type": "code",
   "execution_count": 2,
   "metadata": {
    "collapsed": true
   },
   "outputs": [],
   "source": [
    "import os\n",
    "\n",
    "os.environ['PYTHONPATH'] = '/home/chihyu_lin/pinkoi'\n",
    "os.environ['DJANGO_SETTINGS_MODULE'] = 'pinkoi.settings'"
   ]
  },
  {
   "cell_type": "markdown",
   "metadata": {
    "collapsed": true
   },
   "source": [
    "站內信 sample"
   ]
  },
  {
   "cell_type": "code",
   "execution_count": 3,
   "metadata": {},
   "outputs": [
    {
     "name": "stderr",
     "output_type": "stream",
     "text": [
      "[mine] sql sql {'request_time_ms': 25, 'sql': \"INSERT INTO message (`viewer`,`title`,`sender`,`description`,`receiver`, created) VALUES ('vegetable80923','Pinkoi \\xe9\\x80\\xb1\\xe5\\xb9\\xb4\\xe6\\x85\\xb6\\xe6\\x9c\\x80\\xe5\\xbe\\x8c 4 \\xe5\\xa4\\xa9\\xef\\xbc\\x8c\\xe5\\x86\\x8d\\xe9\\x80\\x81\\xe4\\xbd\\xa0 {currency5} \\xe9\\x81\\x8b\\xe8\\xb2\\xbb\\xef\\xbc\\x81','pinkoi','\\xe6\\xb8\\xac\\xe8\\xa9\\xa6\\xe7\\xab\\x99\\xe5\\x85\\xa7\\xe4\\xbf\\xa1\\xe5\\x85\\xa7\\xe5\\xae\\xb9','vegetable80923', NOW())\"}\n",
      "- - - [28/Oct/2017:00:29:43 +0800] - - - - - [SQL] \"0.025s\" \"INSERT INTO message (`viewer`,`title`,`sender`,`description`,`receiver`, created) VALUES ('vegetable80923','Pinkoi 週年慶最後 4 天，再送你 {currency5} 運費！','pinkoi','測試站內信內容','vegetable80923', NOW())\"\n",
      "Initializing the AsyncQ with queue size 100, thread pool(1)\n",
      "Start executing task(evt.message) : {'what': 'message', 'description': '\\xe6\\xb8\\xac\\xe8\\xa9\\xa6\\xe7\\xab\\x99\\xe5\\x85\\xa7\\xe4\\xbf\\xa1\\xe5\\x85\\xa7\\xe5\\xae\\xb9', 'title': u'Pinkoi \\u9031\\u5e74\\u6176\\u6700\\u5f8c 4 \\u5929\\uff0c\\u518d\\u9001\\u4f60 {currency5} \\u904b\\u8cbb\\uff01', 'who': 'pinkoi', 'when': 1509121783, 'mid': 13278L, 'where': 'vegetable80923'} \n",
      "Done executing task(evt.message) : {'what': 'message', 'description': '\\xe6\\xb8\\xac\\xe8\\xa9\\xa6\\xe7\\xab\\x99\\xe5\\x85\\xa7\\xe4\\xbf\\xa1\\xe5\\x85\\xa7\\xe5\\xae\\xb9', 'title': u'Pinkoi \\u9031\\u5e74\\u6176\\u6700\\u5f8c 4 \\u5929\\uff0c\\u518d\\u9001\\u4f60 {currency5} \\u904b\\u8cbb\\uff01', 'who': 'pinkoi', 'when': 1509121783, 'mid': 13278L, 'where': 'vegetable80923'} \n"
     ]
    }
   ],
   "source": [
    "from pinkoi.models.Message import send_message\n",
    "uid = 'vegetable80923' # 收件人\n",
    "sender_uid = 'pinkoi' #寄件人\n",
    "title = u'Pinkoi 週年慶最後 4 天，再送你 {currency5} 運費！'\n",
    "description = '測試站內信內容'\n",
    "send_message(uid, sender_uid, title, description)"
   ]
  },
  {
   "cell_type": "code",
   "execution_count": 2,
   "metadata": {},
   "outputs": [
    {
     "name": "stdout",
     "output_type": "stream",
     "text": [
      "/user\n",
      "en\n"
     ]
    },
    {
     "name": "stderr",
     "output_type": "stream",
     "text": [
      "- - - [28/Oct/2017:02:00:16 +0800] - - - - - [SQL] \"0.000s\" \"select config from `listing_rank_region_config` where id = \"reindex\"\"\n",
      "[mine] sql sql {'request_time_ms': 8, 'sql': \"INSERT INTO message (`viewer`,`title`,`sender`,`description`,`receiver`, created) VALUES ('vegetable80923','Free Shipping Promotion','pinkoi-campaign','Enjoy free local shipping with purchase over HK$300 during 13-17 Oct.\\\\nhttps://pinkoi.com/search/hkmarket\\\\n\\\\nDon\\\\'t forget you can get 5% off your first purchase made within 24 hours.','vegetable80923', NOW())\"}\n",
      "- - - [28/Oct/2017:02:00:16 +0800] - - - - - [SQL] \"0.008s\" \"INSERT INTO message (`viewer`,`title`,`sender`,`description`,`receiver`, created) VALUES ('vegetable80923','Free Shipping Promotion','pinkoi-campaign','Enjoy free local shipping with purchase over HK$300 during 13-17 Oct.\\nhttps://pinkoi.com/search/hkmarket\\n\\nDon\\'t forget you can get 5% off your first purchase made within 24 hours.','vegetable80923', NOW())\"\n",
      "Initializing the AsyncQ with queue size 100, thread pool(1)\n",
      "Start executing task(evt.message) : {'what': 'message', 'description': u\"Enjoy free local shipping with purchase over HK$300 during 13-17 Oct.\\nhttps://pinkoi.com/search/hkmarket\\n\\nDon't forget you can get 5% off your first purchase made within 24 hours.\", 'title': u'Free Shipping Promotion', 'who': 'pinkoi-campaign', 'when': 1509127216, 'mid': 13300L, 'where': u'vegetable80923'} \n",
      "Done executing task(evt.message) : {'what': 'message', 'description': u\"Enjoy free local shipping with purchase over HK$300 during 13-17 Oct.\\nhttps://pinkoi.com/search/hkmarket\\n\\nDon't forget you can get 5% off your first purchase made within 24 hours.\", 'title': u'Free Shipping Promotion', 'who': 'pinkoi-campaign', 'when': 1509127216, 'mid': 13300L, 'where': u'vegetable80923'} \n"
     ]
    }
   ],
   "source": [
    "from pinkoi.models.User import User\n",
    "from pinkoi.base.campaign.hk_market_fair import send_inbox_message\n",
    "user = User('vegetable80923')\n",
    "print user['locale']\n",
    "#user.set_locale('en')\n",
    "send_inbox_message(user)"
   ]
  },
  {
   "cell_type": "code",
   "execution_count": 5,
   "metadata": {},
   "outputs": [
    {
     "name": "stdout",
     "output_type": "stream",
     "text": [
      "zh_TW\n",
      "TW\n",
      "\n",
      "63dbb4dcde2e3669aec9fa53b95dc7fd6f5100e2\n"
     ]
    }
   ],
   "source": [
    "from pinkoi.models.User import User\n",
    "user = User('vegetable80923')\n",
    "print user['locale']\n",
    "print user['geo']\n",
    "print user.getRole()\n",
    "print user.getPasswd()\n"
   ]
  },
  {
   "cell_type": "code",
   "execution_count": 4,
   "metadata": {},
   "outputs": [
    {
     "name": "stderr",
     "output_type": "stream",
     "text": [
      "[mine] sql sql {'request_time_ms': 0, 'sql': \"update profile set locale = 'zh_TW' where uid = 'vegetable80923' limit 1\"}\n",
      "- - - [28/Oct/2017:02:02:20 +0800] - - - - - [SQL] \"0.000s\" \"update profile set locale = 'zh_TW' where uid = 'vegetable80923' limit 1\"\n",
      "[mine] sql sql {'request_time_ms': 0, 'sql': \"update notification_device_token2 set locale = 'zh_TW' where uid = 'vegetable80923'\"}\n",
      "- - - [28/Oct/2017:02:02:20 +0800] - - - - - [SQL] \"0.000s\" \"update notification_device_token2 set locale = 'zh_TW' where uid = 'vegetable80923'\"\n",
      "[mine] sql sql {'request_time_ms': 0, 'sql': \"update profile set country_code = 'HK' where uid = 'vegetable80923'\"}\n",
      "- - - [28/Oct/2017:02:02:20 +0800] - - - - - [SQL] \"0.000s\" \"update profile set country_code = 'HK' where uid = 'vegetable80923'\"\n",
      "[mine] sql sql {'request_time_ms': 1, 'sql': \"INSERT INTO message (`viewer`,`title`,`sender`,`description`,`receiver`, created) VALUES ('vegetable80923','Pinkoi \\xe9\\x80\\xb1\\xe5\\xb9\\xb4\\xe6\\x85\\xb6\\xef\\xbc\\x81\\xe6\\x9c\\x80\\xe5\\xbe\\x8c 4 \\xe5\\xa4\\xa9\\xef\\xbc\\x8c\\xe9\\x80\\x81\\xe4\\xbd\\xa0 HK$25.0 \\xe9\\x81\\x8b\\xe8\\xb2\\xbb\\xef\\xbc\\x81','pinkoi-coupon','Pinkoi \\xe8\\xa6\\x81\\xe9\\x80\\x81\\xe4\\xbd\\xa0\\xe4\\xb8\\x80\\xe5\\xbc\\xb5\\xe5\\x84\\xaa\\xe6\\x83\\xa0\\xe5\\x88\\xb8\\xe3\\x80\\x82\\\\n        \\xe6\\xb8\\xac\\xe8\\xa9\\xa6text','vegetable80923', NOW())\"}\n",
      "- - - [28/Oct/2017:02:02:20 +0800] - - - - - [SQL] \"0.001s\" \"INSERT INTO message (`viewer`,`title`,`sender`,`description`,`receiver`, created) VALUES ('vegetable80923','Pinkoi 週年慶！最後 4 天，送你 HK$25.0 運費！','pinkoi-coupon','Pinkoi 要送你一張優惠券。\\n        測試text','vegetable80923', NOW())\"\n",
      "- - - [28/Oct/2017:02:02:21 +0800] - - - - - [SQL] \"0.000s\" \"select email from profile where uid='vegetable80923'\"\n",
      "- - - [28/Oct/2017:02:02:21 +0800] - - - - - [SQL] \"0.000s\" \"select\t                    preference,\t                    is_email_permanent_bounced\t                from\t                    profile\t                where\t                    uid = 'vegetable80923'\t                limit 1\"\n",
      "- - - [28/Oct/2017:02:02:22 +0800] - - - - - [Amazon SES] [email] [success] [u'=?utf-8?q?vegetable80923?=<chih-yu.lin+1@pinkoi.com>']\n",
      "- - - [28/Oct/2017:02:02:22 +0800] - - - - - [Notification] [email] - [success] [message] \"vegetable80923\" \"set([u'=?utf-8?q?vegetable80923?= <chih-yu.lin+1@pinkoi.com>'])\"\n",
      "- - - [28/Oct/2017:02:02:22 +0800] - - - - - [SQL] \"0.000s\" \"select email from profile where uid='vegetable80923'\"\n"
     ]
    },
    {
     "ename": "KeyError",
     "evalue": "u'who_nick'",
     "output_type": "error",
     "traceback": [
      "\u001b[0;31m\u001b[0m",
      "\u001b[0;31mKeyError\u001b[0mTraceback (most recent call last)",
      "\u001b[0;32m<ipython-input-4-c4a57e3e0a8f>\u001b[0m in \u001b[0;36m<module>\u001b[0;34m()\u001b[0m\n\u001b[1;32m      3\u001b[0m \u001b[0mUser\u001b[0m\u001b[0;34m(\u001b[0m\u001b[0;34m'vegetable80923'\u001b[0m\u001b[0;34m)\u001b[0m\u001b[0;34m.\u001b[0m\u001b[0mset_locale\u001b[0m\u001b[0;34m(\u001b[0m\u001b[0;34m'zh_TW'\u001b[0m\u001b[0;34m)\u001b[0m\u001b[0;34m\u001b[0m\u001b[0m\n\u001b[1;32m      4\u001b[0m \u001b[0mUser\u001b[0m\u001b[0;34m(\u001b[0m\u001b[0;34m'vegetable80923'\u001b[0m\u001b[0;34m)\u001b[0m\u001b[0;34m.\u001b[0m\u001b[0mset_country_code\u001b[0m\u001b[0;34m(\u001b[0m\u001b[0;34m'HK'\u001b[0m\u001b[0;34m)\u001b[0m\u001b[0;34m\u001b[0m\u001b[0m\n\u001b[0;32m----> 5\u001b[0;31m \u001b[0manniv_2017_msg\u001b[0m\u001b[0;34m.\u001b[0m\u001b[0msend_extra_coupon_message\u001b[0m\u001b[0;34m(\u001b[0m\u001b[0;34m'vegetable80923'\u001b[0m\u001b[0;34m,\u001b[0m \u001b[0;34mu'測試text'\u001b[0m\u001b[0;34m,\u001b[0m \u001b[0;34m'HK'\u001b[0m\u001b[0;34m)\u001b[0m\u001b[0;34m\u001b[0m\u001b[0m\n\u001b[0m",
      "\u001b[0;32m/home/chihyu_lin/pinkoi/pinkoi/base/campaign/anniversary_2017_message.py\u001b[0m in \u001b[0;36msend_extra_coupon_message\u001b[0;34m(uid, rule, geo)\u001b[0m\n\u001b[1;32m    186\u001b[0m             \u001b[0;34m'description'\u001b[0m\u001b[0;34m:\u001b[0m \u001b[0mdescription\u001b[0m\u001b[0;34m,\u001b[0m \u001b[0;34m'sentence'\u001b[0m\u001b[0;34m:\u001b[0m \u001b[0m_\u001b[0m\u001b[0;34m(\u001b[0m\u001b[0;34mu'%s 在 Pinkoi 上寄了訊息給你喔'\u001b[0m\u001b[0;34m)\u001b[0m \u001b[0;34m%\u001b[0m \u001b[0msender\u001b[0m\u001b[0;34m,\u001b[0m\u001b[0;34m\u001b[0m\u001b[0m\n\u001b[1;32m    187\u001b[0m             \u001b[0;34m'title'\u001b[0m\u001b[0;34m:\u001b[0m \u001b[0mtitle\u001b[0m\u001b[0;34m,\u001b[0m\u001b[0;34m\u001b[0m\u001b[0m\n\u001b[0;32m--> 188\u001b[0;31m             \u001b[0;34m'receiver'\u001b[0m\u001b[0;34m:\u001b[0m \u001b[0muid\u001b[0m\u001b[0;34m\u001b[0m\u001b[0m\n\u001b[0m\u001b[1;32m    189\u001b[0m         }\n\u001b[1;32m    190\u001b[0m     )\n",
      "\u001b[0;32m/home/chihyu_lin/pinkoi/pinkoi/base/notification.pyc\u001b[0m in \u001b[0;36msend_notification\u001b[0;34m(event_type, uids, args, email_title_idx, push_message_idx, disable_email, disable_push, disable_sms, email, bcc, sender, pseudo_receivers, ignore_email_pref, ignore_email_permanent_bounced, append_src_to_sms)\u001b[0m\n\u001b[1;32m   1705\u001b[0m                         \u001b[0mpush_message_idx\u001b[0m \u001b[0;34m=\u001b[0m \u001b[0;36m0\u001b[0m\u001b[0;34m\u001b[0m\u001b[0m\n\u001b[1;32m   1706\u001b[0m \u001b[0;34m\u001b[0m\u001b[0m\n\u001b[0;32m-> 1707\u001b[0;31m                     \u001b[0mnotification_config\u001b[0m\u001b[0;34m[\u001b[0m\u001b[0;34m'payload'\u001b[0m\u001b[0;34m]\u001b[0m\u001b[0;34m[\u001b[0m\u001b[0;34m'message'\u001b[0m\u001b[0;34m]\u001b[0m \u001b[0;34m=\u001b[0m \u001b[0mnotification_config\u001b[0m\u001b[0;34m[\u001b[0m\u001b[0;34m'payload'\u001b[0m\u001b[0;34m]\u001b[0m\u001b[0;34m[\u001b[0m\u001b[0;34m'messages'\u001b[0m\u001b[0;34m]\u001b[0m\u001b[0;34m[\u001b[0m\u001b[0mpush_message_idx\u001b[0m\u001b[0;34m]\u001b[0m \u001b[0;34m%\u001b[0m \u001b[0margs\u001b[0m\u001b[0;34m\u001b[0m\u001b[0m\n\u001b[0m\u001b[1;32m   1708\u001b[0m                     \u001b[0;32mdel\u001b[0m \u001b[0mnotification_config\u001b[0m\u001b[0;34m[\u001b[0m\u001b[0;34m'payload'\u001b[0m\u001b[0;34m]\u001b[0m\u001b[0;34m[\u001b[0m\u001b[0;34m'messages'\u001b[0m\u001b[0;34m]\u001b[0m\u001b[0;34m\u001b[0m\u001b[0m\n\u001b[1;32m   1709\u001b[0m \u001b[0;34m\u001b[0m\u001b[0m\n",
      "\u001b[0;32m/home/chihyu_lin/pinkoi/pinkoi/lib/functional.pyc\u001b[0m in \u001b[0;36m__mod__\u001b[0;34m(self, rhs)\u001b[0m\n\u001b[1;32m    225\u001b[0m                 \u001b[0;32mreturn\u001b[0m \u001b[0mstr\u001b[0m\u001b[0;34m(\u001b[0m\u001b[0mself\u001b[0m\u001b[0;34m)\u001b[0m \u001b[0;34m%\u001b[0m \u001b[0mrhs\u001b[0m\u001b[0;34m\u001b[0m\u001b[0m\n\u001b[1;32m    226\u001b[0m             \u001b[0;32melif\u001b[0m \u001b[0mself\u001b[0m\u001b[0;34m.\u001b[0m\u001b[0m_delegate_unicode\u001b[0m\u001b[0;34m:\u001b[0m\u001b[0;34m\u001b[0m\u001b[0m\n\u001b[0;32m--> 227\u001b[0;31m                 \u001b[0;32mreturn\u001b[0m \u001b[0municode\u001b[0m\u001b[0;34m(\u001b[0m\u001b[0mself\u001b[0m\u001b[0;34m)\u001b[0m \u001b[0;34m%\u001b[0m \u001b[0mrhs\u001b[0m\u001b[0;34m\u001b[0m\u001b[0m\n\u001b[0m\u001b[1;32m    228\u001b[0m             \u001b[0;32melse\u001b[0m\u001b[0;34m:\u001b[0m\u001b[0;34m\u001b[0m\u001b[0m\n\u001b[1;32m    229\u001b[0m                 \u001b[0;32mraise\u001b[0m \u001b[0mAssertionError\u001b[0m\u001b[0;34m(\u001b[0m\u001b[0;34m'__mod__ not supported for non-string types'\u001b[0m\u001b[0;34m)\u001b[0m\u001b[0;34m\u001b[0m\u001b[0m\n",
      "\u001b[0;31mKeyError\u001b[0m: u'who_nick'"
     ]
    }
   ],
   "source": [
    "from pinkoi.base.campaign import anniversary_2017_message as anniv_2017_msg\n",
    "from pinkoi.models.User import User\n",
    "User('vegetable80923').set_locale('zh_TW')\n",
    "User('vegetable80923').set_country_code('HK')\n",
    "anniv_2017_msg.send_extra_coupon_message('vegetable80923', u'測試text', 'HK')"
   ]
  },
  {
   "cell_type": "markdown",
   "metadata": {},
   "source": [
    "\n",
    "------------------------------------\n",
    "# 測試活動全站站內信sample #"
   ]
  },
  {
   "cell_type": "code",
   "execution_count": 2,
   "metadata": {},
   "outputs": [
    {
     "name": "stdout",
     "output_type": "stream",
     "text": [
      "Pinkoi 週年慶！限時優惠大放送\n",
      "Pinkoi 6 歲了！只要珍惜生活中的每一分每一秒，大一歲其實沒什麼好怕。今年我們立志成為一個更果斷的人，透過購物學習當機立斷的智慧，享受果斷搶福袋的快感！\n",
      "\n",
      "10 月 31 日前，於 Pinkoi 當個灑脫的人，單筆滿 HK$300 減 HK$15，滿 HK$450 更減 HK$25，馬上帶個好設計回家！\n",
      "\n",
      "下載 Pinkoi APP：pinkoi.com/app/install\n",
      "\n",
      "「滿額折扣」優惠詳細說明：\n",
      "1. 此活動限單筆訂單有效，活動期限為 10 月 17 日到 10 月 31 日 23:59。\n",
      "2. 活動期間單筆滿 HK$300 減 HK$15，滿 HK$450 減 HK$25。\n",
      "3. 以商品金額為滿額的計算標準 (不包含運費以及金流處理費)。\n",
      "4. 折抵的金額為商品金額 (不包含運費以及金流處理費)。\n",
      "5. 已成立訂單不得以未使用優惠為由取消。\n",
      "6. 此優惠不得與首購優惠、優惠券、購物金和紅利等其他優惠同時併用。\n",
      "7. 如為首購，則系統會自動選擇較優惠的金額予以折抵。如果本次活動已使用此優惠，則首購的優惠也會失效。\n",
      "8. 單筆訂筆最高折抵上限為 HK$25 (若消費超過 HK$450，仍僅能折抵 HK$25)。\n",
      "9. 購買禮物卡不包含在此次折扣中。\n",
      "10. 本次活動為香港、澳門限定，且需為繁體中文或英文之使用者。\n",
      "11. Pinkoi 保有修改、變更或暫停本活動之權利，如有未盡事宜，悉依 Pinkoi 相關規定或解釋辦理，並得隨時補充公告之。\n"
     ]
    },
    {
     "name": "stderr",
     "output_type": "stream",
     "text": [
      ">>> zh_TW MO\n",
      ">>> get_locale_for_config zh_TW MO\n",
      ">>> zh_HK MO\n"
     ]
    }
   ],
   "source": [
    "from pinkoi.base.campaign import anniversary_2017_message as anniv_2017_msg\n",
    "# anniv_2017_msg.send_inbox_message('vegetable80923', 'zh_TW', 'TW')\n",
    "#anniv_2017_msg.send_inbox_message('vegetable80923', 'zh_TW', 'HK')\n",
    "# anniv_2017_msg.send_inbox_message('vegetable80923', 'zh_CN', 'CN')\n",
    "#anniv_2017_msg.send_inbox_message('vegetable80923', 'ja', 'JP')\n",
    "#anniv_2017_msg.send_inbox_message('vegetable80923', 'th', 'TH')\n",
    "#anniv_2017_msg.send_inbox_message('vegetable80923', 'en', 'US')\n",
    "#anniv_2017_msg.send_inbox_message('vegetable80923', 'en', 'DE') #test diffreent region\n",
    "message = anniv_2017_msg.format_message('zh_TW', 'MO')\n",
    "print message[0]\n",
    "print message[1]"
   ]
  },
  {
   "cell_type": "code",
   "execution_count": null,
   "metadata": {
    "collapsed": true
   },
   "outputs": [],
   "source": [
    "# 測試付款後給coupon"
   ]
  },
  {
   "cell_type": "code",
   "execution_count": 2,
   "metadata": {},
   "outputs": [
    {
     "name": "stderr",
     "output_type": "stream",
     "text": [
      "- - - [02/Oct/2017:18:35:10 +0800] - - - - - [SQL] \"0.001s\" \"select config from `listing_rank_region_config` where id = \"reindex\"\"\n",
      "- - - [02/Oct/2017:18:35:11 +0800] - - - - - [SQL] \"0.002s\" \"SELECT\t                oid,\t                seller,\t                account,\t                shipping,\t                handling,\t                deductible,\t                coupon_deduct,\t                reward_deduct,\t                giftcard_deduct,\t                coupon_credit,\t                payment_fee,\t                total,\t                coupon,\t                giftcard,\t                buyer,\t                name,\t                address,\t                zipcode,\t                sevenstore,\t                tel,\t                pincode,\t                bname,\t                btel,\t                baddress,\t                bzipcode,\t                tracking,\t                reason AS canceled_reason,\t                taxid,\t                taxtitle,\t                message,\t                memo,\t                payment_method,\t                device,\t                campaign,\t                IFNULL(currency, 'TWD') as currency,\t                IFNULL(payment_currency, IF(account='ALIPAY', 'USD', 'TWD')) as payment_currency,\t                payment_total,\t                min(unix_timestamp(canceled)) as order_canceled,\t                unix_timestamp(created) AS created,\t                unix_timestamp(canceled) AS canceled,\t                unix_timestamp(paid) AS paid,\t                unix_timestamp(scheduled) AS scheduled,\t                unix_timestamp(shipped) AS shipped,\t                unix_timestamp(received) AS received,\t                unix_timestamp(closed) AS closed,\t                unix_timestamp(sreviewed) AS sreviewed,\t                unix_timestamp(breviewed) AS breviewed,\t                sum(quantity * price) AS subtotal,\t                sum(quantity * oprice) AS oprice_total,\t                count(oid) AS sku,\t                GROUP_CONCAT(item SEPARATOR '\u0000') AS items_tid,\t                GROUP_CONCAT(dummy SEPARATOR '\u0000') AS items_dummy,\t                GROUP_CONCAT(price SEPARATOR '\u0000') AS items_price,\t                GROUP_CONCAT(oprice SEPARATOR '\u0000') AS items_oprice,\t                GROUP_CONCAT(quantity SEPARATOR '\u0000') AS items_quantity,\t                GROUP_CONCAT(seller SEPARATOR '\u0000') AS items_owner,\t                GROUP_CONCAT(IFNULL(variation, '') SEPARATOR '\u0000') AS items_variation,\t                GROUP_CONCAT(title SEPARATOR '\u0000') AS items_title,\t                GROUP_CONCAT(CONVERT(unix_timestamp(`canceled`), char(20)) SEPARATOR '\u0000') AS items_canceled\t                FROM orders\t                USE INDEX (orders_buyer, orders_seller, primary)\t                 WHERE (`oid` = '201709251118SHDQ')\t                GROUP BY oid\t                \t                ORDER BY created DESC\t                LIMIT 0,10\"\n",
      "- - - [02/Oct/2017:18:35:11 +0800] - - - - - [SQL] \"0.003s\" \"SELECT `seller` AS `suid`, `buyer` AS `buid`, count(distinct oid) as count FROM `orders` WHERE `buyer` IN ('vegetable80923') AND `canceled` = 0 AND `seller` IN ('colorpyen') GROUP BY `seller`, `buyer`\"\n",
      "- - - [02/Oct/2017:18:35:11 +0800] - - - - - [SQL] \"0.000s\" \"select\t                oid,\t                unix_timestamp(requested),\t                unix_timestamp(agreed),\t                unix_timestamp(refunded),\t                unix_timestamp(disagreed),\t                unix_timestamp(closed)\t            from refund\t            where oid in ('201709251118SHDQ')\"\n",
      "- - - [02/Oct/2017:18:35:11 +0800] - - - - - [SQL] \"0.000s\" \"SELECT * FROM fx WHERE start=201710\"\n",
      "- - - [02/Oct/2017:18:35:11 +0800] - - - - - [SQL] \"0.001s\" \"SELECT * FROM campaign WHERE uid='colorpyen' and (start >= date_sub(20171001, interval 30 day) or end >= date(20171001))\"\n",
      "- - - [02/Oct/2017:18:35:11 +0800] - - - - - [SQL] \"0.001s\" \"SELECT * FROM service WHERE uid='colorpyen' and created >= date(20171001) and created < date(20171101)\"\n",
      "- - - [02/Oct/2017:18:35:11 +0800] - - - - - [SQL] \"0.009s\" \"SELECT\t                            oid,\t                            GROUP_CONCAT(item SEPARATOR '\u0000') AS items_tid,\t                            GROUP_CONCAT(quantity SEPARATOR '\u0000') AS items_quantity,\t                            GROUP_CONCAT(title SEPARATOR '\u0000') AS items_title,\t                            item,\t                            quantity,\t                            seller,\t                            buyer,\t                            payment_fee,\t                            payment_method,\t                            deductible,\t                            coupon,\t                            coupon_deduct,\t                            giftcard_deduct,\t                            reward_deduct,\t                            coupon_credit,\t                            sum(quantity*price) as subtotal,\t                            sum(quantity*oprice) as o_subtotal,\t                            handling,\t                            currency,\t                            total,\t                            payment_currency,\t                            payment_total,\t                            created\t                        FROM\t                            orders\t                        WHERE\t                            seller='colorpyen' AND  paid >= \"2016-03-01\" AND shipped >= date(20171001) AND shipped < date(20171101) AND shipped != 0 AND \t                            paid !=0 AND\t                            canceled = 0\t                        GROUP BY\t                            oid\t                        ORDER BY\t                            created ASC\"\n",
      "- - - [02/Oct/2017:18:35:11 +0800] - - - - - [SQL] \"0.000s\" \"SELECT `twd_service_fee` FROM `advocate_statistic` WHERE `month` = 10 AND `uid` = 'colorpyen' AND `year` = 2017 LIMIT 1\"\n",
      "- - - [02/Oct/2017:18:35:11 +0800] - - - - - [SQL] \"0.000s\" \"select paid from transaction where period = 201710 and uid = 'colorpyen' and paid > 0\"\n",
      "[mine] sql sql {'request_time_ms': 1, 'sql': 'INSERT INTO transaction (`payment_fee`,`fx_gain`,`vipbuyer`,`absorb`,`handling`,`fee_adjustment`,`period`,`bestseller`,`fee`,`freqbuyer`,`invoice_amt`,`balance`,`subtotal`,`subtotal_adjustment`,`vat`,`uid`) VALUES(0,0,\\'[[\\\\\"app\\\\\", 30, \\\\\"1qYgsxGa\\\\\"]]\\',0,1,0,201710,\\'[[\\\\\"1qYgsxGa\\\\\", 1]]\\',15,\\'[[\\\\\"app\\\\\", 1, \\\\\"1qYgsxGa\\\\\"]]\\',16,15,30,0,1,\\'colorpyen\\') ON DUPLICATE KEY UPDATE\\n                        subtotal=30, fee=15, vat=1, handling=1, absorb=0, payment_fee=0, balance=15, subtotal_adjustment=0, fee_adjustment=0, fx_gain=0, bestseller=\\'[[\\\\\"1qYgsxGa\\\\\", 1]]\\', freqbuyer=\\'[[\\\\\"app\\\\\", 1, \\\\\"1qYgsxGa\\\\\"]]\\', vipbuyer=\\'[[\\\\\"app\\\\\", 30, \\\\\"1qYgsxGa\\\\\"]]\\''}\n",
      "- - - [02/Oct/2017:18:35:11 +0800] - - - - - [SQL] \"0.001s\" \"INSERT INTO transaction (`payment_fee`,`fx_gain`,`vipbuyer`,`absorb`,`handling`,`fee_adjustment`,`period`,`bestseller`,`fee`,`freqbuyer`,`invoice_amt`,`balance`,`subtotal`,`subtotal_adjustment`,`vat`,`uid`) VALUES(0,0,'[[\\\"app\\\", 30, \\\"1qYgsxGa\\\"]]',0,1,0,201710,'[[\\\"1qYgsxGa\\\", 1]]',15,'[[\\\"app\\\", 1, \\\"1qYgsxGa\\\"]]',16,15,30,0,1,'colorpyen') ON DUPLICATE KEY UPDATE\t                        subtotal=30, fee=15, vat=1, handling=1, absorb=0, payment_fee=0, balance=15, subtotal_adjustment=0, fee_adjustment=0, fx_gain=0, bestseller='[[\\\"1qYgsxGa\\\", 1]]', freqbuyer='[[\\\"app\\\", 1, \\\"1qYgsxGa\\\"]]', vipbuyer='[[\\\"app\\\", 30, \\\"1qYgsxGa\\\"]]'\"\n",
      "- - - [02/Oct/2017:18:35:11 +0800] - - - - - [SQL] \"0.001s\" \"select email from profile where uid='colorpyen'\"\n",
      "- - - [02/Oct/2017:18:35:11 +0800] - - - - - [SQL] \"0.001s\" \"select\t                    preference,\t                    is_email_permanent_bounced\t                from\t                    profile\t                where\t                    uid = 'colorpyen'\t                limit 1\"\n",
      "- - - [02/Oct/2017:18:35:13 +0800] - - - - - [Amazon SES] [email] [success] [u'=?utf-8?q?colorpyen111?=<colorpyen@gmail.com>']\n",
      "- - - [02/Oct/2017:18:35:13 +0800] - - - - - [Notification] [email] - [success] [order_paid] \"colorpyen\" \"set([u'=?utf-8?q?colorpyen111?= <colorpyen@gmail.com>'])\"\n",
      "- - - [02/Oct/2017:18:35:13 +0800] - - - - - [SQL] \"0.000s\" \"select email from profile where uid='colorpyen'\"\n",
      "- - - [02/Oct/2017:18:35:13 +0800] - - - - - [SQL] \"0.003s\" \"SELECT `preference2` FROM `notification_device_token2` WHERE `uid` = 'colorpyen' ORDER BY `modified` DESC LIMIT 1\"\n",
      "- - - [02/Oct/2017:18:35:13 +0800] - - - - - [Notification] [push] [notoken] [order_paid] \"colorpyen\"\n",
      "- - - [02/Oct/2017:18:35:13 +0800] - - - - - [SQL] \"0.001s\" \"select email from profile where uid='vegetable80923'\"\n"
     ]
    },
    {
     "name": "stderr",
     "output_type": "stream",
     "text": [
      "- - - [02/Oct/2017:18:35:13 +0800] - - - - - [SQL] \"0.001s\" \"select\t                    preference,\t                    is_email_permanent_bounced\t                from\t                    profile\t                where\t                    uid = 'vegetable80923'\t                limit 1\"\n",
      "- - - [02/Oct/2017:18:35:14 +0800] - - - - - [Amazon SES] [email] [success] [u'=?utf-8?q?vegetable80923?=<chih-yu.lin+1@pinkoi.com>']\n",
      "- - - [02/Oct/2017:18:35:14 +0800] - - - - - [Notification] [email] - [success] [order_confirm_paid] \"vegetable80923\" \"set([u'=?utf-8?q?vegetable80923?= <chih-yu.lin+1@pinkoi.com>'])\"\n",
      "- - - [02/Oct/2017:18:35:14 +0800] - - - - - [SQL] \"0.000s\" \"select email from profile where uid='vegetable80923'\"\n",
      "- - - [02/Oct/2017:18:35:14 +0800] - - - - - [SQL] \"0.001s\" \"SELECT `preference2` FROM `notification_device_token2` WHERE `uid` = 'vegetable80923' ORDER BY `modified` DESC LIMIT 1\"\n",
      "- - - [02/Oct/2017:18:35:14 +0800] - - - - - [Notification] [push] [notoken] [order_confirm_paid] \"vegetable80923\"\n",
      "- - - [02/Oct/2017:18:35:14 +0800] - - - - - [SQL] \"0.236s\" \"select points, records from reward where owner = 'vegetable80923' for update\"\n",
      "[mine] sql sql {'request_time_ms': 1, 'sql': 'insert into\\n                reward\\n            values\\n                (\\'vegetable80923\\', 10997, \\'{\\\\\"fav\\\\\": 1506311609}\\', \\'2017-10-02 18:35:14\\', \\'2017-10-02 18:35:14\\')\\n            on duplicate key update\\n                points = points+10997, records = \\'{\\\\\"fav\\\\\": 1506311609}\\''}\n",
      "- - - [02/Oct/2017:18:35:14 +0800] - - - - - [SQL] \"0.001s\" \"insert into\t                reward\t            values\t                ('vegetable80923', 10997, '{\\\"fav\\\": 1506311609}', '2017-10-02 18:35:14', '2017-10-02 18:35:14')\t            on duplicate key update\t                points = points+10997, records = '{\\\"fav\\\": 1506311609}'\"\n",
      "- - - [02/Oct/2017:18:35:14 +0800] - - - - - [SQL] \"0.118s\" \"select currency from orders where buyer = 'vegetable80923' order by created limit 1\"\n",
      "- - - [02/Oct/2017:18:35:14 +0800] - - - - - [SQL] \"0.001s\" \"select\t                total,\t                currency\t            from orders\t            where\t                buyer = 'vegetable80923' and\t                paid > 0 and canceled = 0\t            group by\t                oid\"\n",
      "- - - [02/Oct/2017:18:35:14 +0800] - - - - - [SQL] \"0.001s\" \"select distinct key_\t            from vip_offers\t            where uid = 'vegetable80923' order by created\"\n",
      "[mine] sql sql {'request_time_ms': 24, 'sql': 'INSERT INTO coupon (`code`,`uid`,`credit`,`activated`,`onorder`,`currency`,`discount`,`valid`,`onfollow`,`rule`,`owner`,`deductible`,`expired`,`condition`) VALUES(\\'@anniv-2017-mcNA\\',\\'vegetable80923\\',100,0,0,\\'HKD\\',0,1,0,\\'freeshipping\\',\\'pinkoi\\',10,\\'2017-12-31 23:59:59\\',\\'{\\\\\"limit\\\\\": 1}\\')'}\n",
      "- - - [02/Oct/2017:18:35:14 +0800] - - - - - [SQL] \"0.024s\" \"INSERT INTO coupon (`code`,`uid`,`credit`,`activated`,`onorder`,`currency`,`discount`,`valid`,`onfollow`,`rule`,`owner`,`deductible`,`expired`,`condition`) VALUES('@anniv-2017-mcNA','vegetable80923',100,0,0,'HKD',0,1,0,'freeshipping','pinkoi',10,'2017-12-31 23:59:59','{\\\"limit\\\": 1}')\"\n",
      "[mine] sql sql {'request_time_ms': 1, 'sql': \"INSERT INTO message (`viewer`,`title`,`sender`,`description`,`receiver`, created) VALUES ('vegetable80923','Final four days. Here\\\\'s a limited time shipping discount coupon.','pinkoi-coupon','Pinkoi sent you a coupon and this message:\\\\n            Enter the coupon code @anniv-2017-mcNA at checkout, and get discount on shipping for every item. Valid until 2017/12/31. Can be used once only. ','vegetable80923', NOW())\"}\n",
      "- - - [02/Oct/2017:18:35:14 +0800] - - - - - [SQL] \"0.001s\" \"INSERT INTO message (`viewer`,`title`,`sender`,`description`,`receiver`, created) VALUES ('vegetable80923','Final four days. Here\\'s a limited time shipping discount coupon.','pinkoi-coupon','Pinkoi sent you a coupon and this message:\\n            Enter the coupon code @anniv-2017-mcNA at checkout, and get discount on shipping for every item. Valid until 2017/12/31. Can be used once only. ','vegetable80923', NOW())\"\n",
      "Initializing the AsyncQ with queue size 100, thread pool(1)\n",
      "Start executing task(evt.message) : {'what': 'message', 'description': u'Pinkoi sent you a coupon and this message:\\n            Enter the coupon code <b style=\"color:#f0648f;\">@anniv-2017-mcNA</b> at checkout, and get discount on shipping for every item. Valid until 2017/12/31. Can be used once only. ', 'title': u\"Final four days. Here's a limited time shipping discount coupon.\", 'who': 'pinkoi-coupon', 'when': 1506940514, 'mid': 13043L, 'where': u'vegetable80923'} \n",
      "Done executing task(evt.message) : {'what': 'message', 'description': u'Pinkoi sent you a coupon and this message:\\n            Enter the coupon code <b style=\"color:#f0648f;\">@anniv-2017-mcNA</b> at checkout, and get discount on shipping for every item. Valid until 2017/12/31. Can be used once only. ', 'title': u\"Final four days. Here's a limited time shipping discount coupon.\", 'who': 'pinkoi-coupon', 'when': 1506940514, 'mid': 13043L, 'where': u'vegetable80923'} \n"
     ]
    }
   ],
   "source": [
    "from pinkoi.rabbitmq.consumers import event_consumer\n",
    "event = {'which': '201709251118SHDQ', 'who': 'vegetable80923'}\n",
    "event_consumer.event_paid(event)"
   ]
  },
  {
   "cell_type": "code",
   "execution_count": null,
   "metadata": {
    "collapsed": true
   },
   "outputs": [],
   "source": []
  }
 ],
 "metadata": {
  "kernelspec": {
   "display_name": "Pinkoi",
   "language": "python",
   "name": "my_python2"
  },
  "language_info": {
   "codemirror_mode": {
    "name": "ipython",
    "version": 2
   },
   "file_extension": ".py",
   "mimetype": "text/x-python",
   "name": "python",
   "nbconvert_exporter": "python",
   "pygments_lexer": "ipython2",
   "version": "2.7.3"
  }
 },
 "nbformat": 4,
 "nbformat_minor": 2
}
