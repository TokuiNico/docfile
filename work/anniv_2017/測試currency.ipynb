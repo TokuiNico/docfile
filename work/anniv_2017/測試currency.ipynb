{
 "cells": [
  {
   "cell_type": "code",
   "execution_count": 1,
   "metadata": {},
   "outputs": [
    {
     "name": "stdout",
     "output_type": "stream",
     "text": [
      "/home/chihyu_lin/pinkoi\n"
     ]
    }
   ],
   "source": [
    "cd ~/pinkoi/"
   ]
  },
  {
   "cell_type": "code",
   "execution_count": 2,
   "metadata": {
    "collapsed": true
   },
   "outputs": [],
   "source": [
    "from pinkoi.models import Store\n",
    "from pinkoi.base.currency import Currency"
   ]
  },
  {
   "cell_type": "code",
   "execution_count": 4,
   "metadata": {},
   "outputs": [
    {
     "name": "stdout",
     "output_type": "stream",
     "text": [
      "HK$123.1\n"
     ]
    }
   ],
   "source": [
    "ccy = Currency(123.11324324, 'HKD')\n",
    "print ccy.formatted()"
   ]
  },
  {
   "cell_type": "code",
   "execution_count": 5,
   "metadata": {},
   "outputs": [
    {
     "name": "stdout",
     "output_type": "stream",
     "text": [
      "123.5499999999999971578290569595992565155029296875\n",
      "RMB124.00\n",
      "RMB124\n"
     ]
    }
   ],
   "source": [
    "ccy = Currency(123.55, 'CNY')\n",
    "print ccy.ovalue\n",
    "print ccy.formatted(apply_digits=False)\n",
    "print ccy.formatted()"
   ]
  },
  {
   "cell_type": "code",
   "execution_count": 6,
   "metadata": {},
   "outputs": [
    {
     "name": "stdout",
     "output_type": "stream",
     "text": [
      "NT$123.00\n",
      "NT$123\n"
     ]
    }
   ],
   "source": [
    "ccy = Currency(123.1234, 'TWD')\n",
    "print ccy.formatted(apply_digits=False)\n",
    "print ccy.formatted()"
   ]
  },
  {
   "cell_type": "code",
   "execution_count": 13,
   "metadata": {},
   "outputs": [
    {
     "name": "stdout",
     "output_type": "stream",
     "text": [
      "JP￥123.00\n",
      "JP￥123\n",
      "JP￥123\n"
     ]
    },
    {
     "name": "stderr",
     "output_type": "stream",
     "text": [
      ">>> ¤#,##0.00\n",
      ">>> ¤#,##0.\n",
      ">>> ¤#,##0.\n"
     ]
    }
   ],
   "source": [
    "ccy = Currency(123.234, 'JPY')\n",
    "print ccy.formatted(apply_digits=False)\n",
    "print ccy.formatted()"
   ]
  },
  {
   "cell_type": "code",
   "execution_count": 7,
   "metadata": {},
   "outputs": [
    {
     "name": "stdout",
     "output_type": "stream",
     "text": [
      "US$123.00\n",
      "US$123.00\n",
      "US$123.00\n"
     ]
    },
    {
     "name": "stderr",
     "output_type": "stream",
     "text": [
      ">>> ¤#,##0.00\n",
      ">>> ¤#,##0.00\n",
      ">>> ¤#,##0.00\n"
     ]
    }
   ],
   "source": [
    "ccy = Currency(123, 'USD')\n",
    "print ccy.formatted()\n",
    "print ccy.formatted(apply_digits=False)\n",
    "print ccy.formatted(apply_digits=True)"
   ]
  },
  {
   "cell_type": "code",
   "execution_count": 10,
   "metadata": {
    "collapsed": true
   },
   "outputs": [],
   "source": [
    "# test\n",
    "import re\n",
    "_REMOVE_ZERO_REGEX = re.compile(ur'\\.[\\d#]*')"
   ]
  },
  {
   "cell_type": "code",
   "execution_count": 11,
   "metadata": {},
   "outputs": [
    {
     "name": "stdout",
     "output_type": "stream",
     "text": [
      "<_sre.SRE_Pattern object at 0x61218d0>\n"
     ]
    }
   ],
   "source": [
    "pattern = '¤#,##0.00'\n",
    "_REMOVE_ZERO_REGEX.sub('', pattern)\n",
    "print str(_REMOVE_ZERO_REGEX)"
   ]
  },
  {
   "cell_type": "code",
   "execution_count": null,
   "metadata": {
    "collapsed": true
   },
   "outputs": [],
   "source": []
  }
 ],
 "metadata": {
  "kernelspec": {
   "display_name": "Pinkoi",
   "language": "python",
   "name": "my_python2"
  },
  "language_info": {
   "codemirror_mode": {
    "name": "ipython",
    "version": 2
   },
   "file_extension": ".py",
   "mimetype": "text/x-python",
   "name": "python",
   "nbconvert_exporter": "python",
   "pygments_lexer": "ipython2",
   "version": "2.7.3"
  }
 },
 "nbformat": 4,
 "nbformat_minor": 2
}
