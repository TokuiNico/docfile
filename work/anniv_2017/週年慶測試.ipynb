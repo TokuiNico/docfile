{
 "cells": [
  {
   "cell_type": "code",
   "execution_count": 1,
   "metadata": {},
   "outputs": [
    {
     "name": "stdout",
     "output_type": "stream",
     "text": [
      "/home/chihyu_lin/pinkoi\n"
     ]
    }
   ],
   "source": [
    "cd /home/chihyu_lin/pinkoi/"
   ]
  },
  {
   "cell_type": "code",
   "execution_count": 2,
   "metadata": {
    "collapsed": true
   },
   "outputs": [],
   "source": [
    "from pinkoi.base.campaign import anniversary_2017 as anniv_2017"
   ]
  },
  {
   "cell_type": "markdown",
   "metadata": {},
   "source": [
    "# 測試campaign link #"
   ]
  },
  {
   "cell_type": "code",
   "execution_count": 3,
   "metadata": {},
   "outputs": [
    {
     "name": "stdout",
     "output_type": "stream",
     "text": [
      "https://www.chihyulin.office.pinkoi.com/event/anniversary_2017\n",
      "https://www.chihyulin.office.pinkoi.com/search?q=%232017goodybag&landing_page=anniv-goodybag\n",
      "https://www.chihyulin.office.pinkoi.com/search?free_shipping_geo=None\n",
      "https://www.chihyulin.office.pinkoi.com/search?q=@anniv-topsales&landing_page=anniv-topsales\n",
      "https://www.chihyulin.office.pinkoi.com/search?q=@anniv-newitem&landing_page=anniv-newitem\n",
      "https://www.chihyulin.office.pinkoi.com/search?q=@anniv-discount&landing_page=anniv-discount\n",
      "https://www.chihyulin.office.pinkoi.com\n"
     ]
    },
    {
     "name": "stderr",
     "output_type": "stream",
     "text": [
      "- - - [30/Sep/2017:13:01:58 +0800] - - - - - [SQL] \"0.000s\" \"select config from `listing_rank_region_config` where id = \"reindex\"\"\n"
     ]
    }
   ],
   "source": [
    "keys = ('anniv', 'goodybag', 'freeshipping', 'topsales', 'newitem', 'discount', 'testother')\n",
    "for key in keys:\n",
    "    print anniv_2017.get_event_url(key)"
   ]
  },
  {
   "cell_type": "markdown",
   "metadata": {},
   "source": [
    "# 測試 Banner (web, mweb, app) link #"
   ]
  },
  {
   "cell_type": "code",
   "execution_count": 4,
   "metadata": {},
   "outputs": [
    {
     "name": "stdout",
     "output_type": "stream",
     "text": [
      "https://cdn04.pinkoi.com/pinkoi.site/event/anniversary-2017/en_anniv_banner_web.jpg\n",
      "https://cdn04.pinkoi.com/pinkoi.site/event/anniversary-2017/en_goodybag_banner_web.jpg\n",
      "https://cdn04.pinkoi.com/pinkoi.site/event/anniversary-2017/en_freeshipping_banner_web.jpg\n",
      "https://cdn04.pinkoi.com/pinkoi.site/event/anniversary-2017/en_topsales_banner_web.jpg\n",
      "https://cdn04.pinkoi.com/pinkoi.site/event/anniversary-2017/en_newitem_banner_web.jpg\n",
      "https://cdn04.pinkoi.com/pinkoi.site/event/anniversary-2017/en_discount_banner_web.jpg\n",
      "https://cdn04.pinkoi.com/pinkoi.site/event/anniversary-2017/en_testother_banner_web.jpg\n"
     ]
    }
   ],
   "source": [
    "for key in keys:\n",
    "    print unicode(anniv_2017.get_banner_url(key, 'web'))"
   ]
  },
  {
   "cell_type": "markdown",
   "metadata": {},
   "source": [
    "# 測試 APP CAMPAIGN #"
   ]
  },
  {
   "cell_type": "code",
   "execution_count": 6,
   "metadata": {},
   "outputs": [
    {
     "name": "stdout",
     "output_type": "stream",
     "text": [
      "{'data': [{'url': 'https://www.chihyulin.office.pinkoi.com/event/anniversary_2017', 'banner': <pinkoi.lib.functional.__proxy__ object at 0x70cf190>}], 'type': 'native_action'}\n",
      "{'data': [{'url': u'https://www.chihyulin.office.pinkoi.com/search?q=%232017goodybag&landing_page=anniv-goodybag', 'banner': <pinkoi.lib.functional.__proxy__ object at 0x70cf190>}], 'type': 'native_action'}\n",
      "{'data': [{'url': 'https://www.chihyulin.office.pinkoi.com/search?free_shipping_geo=None', 'banner': <pinkoi.lib.functional.__proxy__ object at 0x70cf190>}], 'type': 'native_action'}\n",
      "{'data': [{'url': 'https://www.chihyulin.office.pinkoi.com/search?q=@anniv-topsales&landing_page=anniv-topsales', 'banner': <pinkoi.lib.functional.__proxy__ object at 0x70cf190>}], 'type': 'native_action'}\n",
      "{'data': [{'url': 'https://www.chihyulin.office.pinkoi.com/search?q=@anniv-newitem&landing_page=anniv-newitem', 'banner': <pinkoi.lib.functional.__proxy__ object at 0x70cf190>}], 'type': 'native_action'}\n",
      "{'data': [{'url': 'https://www.chihyulin.office.pinkoi.com/search?q=@anniv-discount&landing_page=anniv-discount', 'banner': <pinkoi.lib.functional.__proxy__ object at 0x70cf190>}], 'type': 'native_action'}\n",
      "{'data': [{'url': 'https://www.chihyulin.office.pinkoi.com', 'banner': <pinkoi.lib.functional.__proxy__ object at 0x70cf190>}], 'type': 'native_action'}\n"
     ]
    }
   ],
   "source": [
    "for key in keys:\n",
    "    print anniv_2017.get_app_campaign(key, 'app')"
   ]
  },
  {
   "cell_type": "markdown",
   "metadata": {},
   "source": [
    "# 測試活動頁商品 #"
   ]
  },
  {
   "cell_type": "code",
   "execution_count": 7,
   "metadata": {},
   "outputs": [
    {
     "name": "stdout",
     "output_type": "stream",
     "text": [
      "goodybag\n",
      "[{'tid': u'27qEvdWd', 'map': 0, 'store_id': u'04132', 'title': u'test'}, {'tid': u'dcmhNr9w', 'map': 0, 'store_id': u'24hour', 'title': u'test'}, {'tid': u'267io38c', 'map': 0, 'store_id': u'adam', 'title': u'test'}, {'tid': u'11krtYNC', 'map': 0, 'store_id': u'amostylegogo', 'title': u'test'}, {'tid': u'1GOWuHYM', 'map': 0, 'store_id': u'app-team', 'title': u'test'}, {'tid': u'NJvXcMZm', 'map': 0, 'store_id': u'applepay', 'title': u'test'}, {'tid': u'1FNv0ZTn', 'map': 0, 'store_id': u'asao0000', 'title': u'test'}, {'tid': u'0mpSa0lY', 'map': 0, 'store_id': u'asao0408', 'title': u'test'}, {'tid': u'199NfYnn', 'map': 0, 'store_id': u'asao0412', 'title': u'test'}, {'tid': u'3HbAQVVz', 'map': 0, 'store_id': u'asao04123', 'title': u'test'}, {'tid': u'2rD804BW', 'map': 0, 'store_id': u'asao0413', 'title': u'test'}, {'tid': u'1AeqcWxO', 'map': 0, 'store_id': u'asaoaaa', 'title': u'test'}, {'tid': u'15BTBK89', 'map': 0, 'store_id': u'asaoasao', 'title': u'test'}, {'tid': u'05e07QOU', 'map': 0, 'store_id': u'asaohoge', 'title': u'test'}, {'tid': u'JMHZusAJ', 'map': 0, 'store_id': u'carol-test', 'title': u'test'}, {'tid': u'qSy8BZ89', 'map': 0, 'store_id': u'chihyu000', 'title': u'test'}, {'tid': u'1-how75r', 'map': 0, 'store_id': u'colorpyen', 'title': u'test'}, {'tid': u'10jkJGLf', 'map': 0, 'store_id': u'for-polly', 'title': u'test'}, {'tid': u'Tj3THXch', 'map': 0, 'store_id': u'freshseller', 'title': u'test'}, {'tid': u'02LjVmoP', 'map': 0, 'store_id': u'hous', 'title': u'test'}]\n",
      "freeshipping\n",
      "[{'tid': u'7avdP87R', 'map': 0, 'store_id': u'04132', 'title': u'test'}, {'tid': u'5Ftr7B2c', 'map': 0, 'store_id': u'adam', 'title': u'test'}, {'tid': u'14heZWwB', 'map': 0, 'store_id': u'amostylegogo', 'title': u'test'}, {'tid': u'1JRgaLjW', 'map': 0, 'store_id': u'app-team', 'title': u'test'}, {'tid': u'ejsiJFan', 'map': 0, 'store_id': u'applepay', 'title': u'test'}, {'tid': u'1nznSXJU', 'map': 0, 'store_id': u'asao0000', 'title': u'test'}, {'tid': u'0rYrFpcG', 'map': 0, 'store_id': u'asao0408', 'title': u'test'}, {'tid': u'6HFcPfIW', 'map': 0, 'store_id': u'asao0412', 'title': u'test'}, {'tid': u'3LoWq4NA', 'map': 0, 'store_id': u'asao04123', 'title': u'test'}, {'tid': u'8fZAD2V9', 'map': 0, 'store_id': u'asao0413', 'title': u'test'}, {'tid': u'2fyk2rcy', 'map': 0, 'store_id': u'asaoaaa', 'title': u'test'}, {'tid': u'2JolwZgd', 'map': 0, 'store_id': u'asaoasao', 'title': u'test'}, {'tid': u'0BSQkrPe', 'map': 0, 'store_id': u'asaohoge', 'title': u'test'}, {'tid': u'100tAdra', 'map': 0, 'store_id': u'colorpyen', 'title': u'test'}, {'tid': u'119jEtgX', 'map': 0, 'store_id': u'for-polly', 'title': u'test'}, {'tid': u'05a0HZck', 'map': 0, 'store_id': u'hous', 'title': u'test'}, {'tid': u'1JLkAmUG', 'map': 0, 'store_id': u'intl-cn', 'title': u'test'}, {'tid': u'1SNRDAKM', 'map': 0, 'store_id': u'intl-hk', 'title': u'test'}, {'tid': u'13Mjrw4o', 'map': 0, 'store_id': u'intl-ja', 'title': u'test'}, {'tid': u'1Qe4g2ES', 'map': 0, 'store_id': u'intl-th', 'title': u'test'}]\n",
      "topsales\n",
      "[{'tid': u'CKQyJpYW', 'map': 0, 'store_id': u'04132', 'title': u'test'}, {'tid': u'F1ecbR5M', 'map': 0, 'store_id': u'adam', 'title': u'test'}, {'tid': u'193thU8Y', 'map': 0, 'store_id': u'amostylegogo', 'title': u'test'}, {'tid': u'1omzCOAn', 'map': 0, 'store_id': u'asao0000', 'title': u'test'}, {'tid': u'2iC8o0Z9', 'map': 0, 'store_id': u'asao0408', 'title': u'test'}, {'tid': u'8u3vcPB8', 'map': 0, 'store_id': u'asao0412', 'title': u'test'}, {'tid': u'6DhOgsw1', 'map': 0, 'store_id': u'asao04123', 'title': u'test'}, {'tid': u'99ytoY6t', 'map': 0, 'store_id': u'asao0413', 'title': u'test'}, {'tid': u'2iEHQpSd', 'map': 0, 'store_id': u'asaoaaa', 'title': u'test'}, {'tid': u'2iTzR0t2', 'map': 0, 'store_id': u'asaoasao', 'title': u'test'}, {'tid': u'2NkVXLgF', 'map': 0, 'store_id': u'asaohoge', 'title': u'test'}, {'tid': u'10yhdEUW', 'map': 0, 'store_id': u'colorpyen', 'title': u'test'}, {'tid': u'12q_qFwr', 'map': 0, 'store_id': u'for-polly', 'title': u'test'}, {'tid': u'2d5LGgnP', 'map': 0, 'store_id': u'hous', 'title': u'test'}, {'tid': u'qyMLFZVD', 'map': 0, 'store_id': u'intl-cn', 'title': u'test'}, {'tid': u'1dfDKt1Z', 'map': 0, 'store_id': u'intl-hk', 'title': u'test'}, {'tid': u'13nL6PUA', 'map': 0, 'store_id': u'intl-ja', 'title': u'test'}, {'tid': u'1pnhKeQJ', 'map': 0, 'store_id': u'intl-th', 'title': u'test'}]\n",
      "newitem\n",
      "[{'tid': u'CzRcRI28', 'map': 0, 'store_id': u'04132', 'title': u'test'}, {'tid': u'Xm3oV9Dk', 'map': 0, 'store_id': u'adam', 'title': u'test'}, {'tid': u'1SoG4XEM', 'map': 0, 'store_id': u'amostylegogo', 'title': u'test'}, {'tid': u'1Oqynn2Z', 'map': 0, 'store_id': u'app-team', 'title': u'test'}, {'tid': u'3I9QPb6j', 'map': 0, 'store_id': u'asao0000', 'title': u'test'}, {'tid': u'4jrQK3Zp', 'map': 0, 'store_id': u'asao0408', 'title': u'test'}, {'tid': u'9rZDNpQ5', 'map': 0, 'store_id': u'asao0412', 'title': u'test'}, {'tid': u'6thBysxt', 'map': 0, 'store_id': u'asao04123', 'title': u'test'}, {'tid': u'AK02IpHD', 'map': 0, 'store_id': u'asao0413', 'title': u'test'}, {'tid': u'5IzF0PF0', 'map': 0, 'store_id': u'asaoaaa', 'title': u'test'}, {'tid': u'5T9AT5PG', 'map': 0, 'store_id': u'asaoasao', 'title': u'test'}, {'tid': u'3PkIhF2S', 'map': 0, 'store_id': u'asaohoge', 'title': u'test'}, {'tid': u'12Ad9glu', 'map': 0, 'store_id': u'colorpyen', 'title': u'test'}, {'tid': u'13_nDDUy', 'map': 0, 'store_id': u'for-polly', 'title': u'test'}, {'tid': u'7PMYIkHY', 'map': 0, 'store_id': u'hous', 'title': u'test'}, {'tid': u'SI9wbFS1', 'map': 0, 'store_id': u'intl-hk', 'title': u'test'}, {'tid': u'16ECNsWO', 'map': 0, 'store_id': u'intl-ja', 'title': u'test'}, {'tid': u'1vutVcFS', 'map': 0, 'store_id': u'intl-th', 'title': u'test'}, {'tid': u'1mHam1t9', 'map': 0, 'store_id': u'intl-tw', 'title': u'test'}, {'tid': u'4zrqlfeu', 'map': 0, 'store_id': u'intl-us', 'title': u'test'}, {'tid': u'4JxuSyPe', 'map': 0, 'store_id': u'jchien-design', 'title': u'test'}]\n",
      "discount\n",
      "[{'tid': u'OE9Hal51', 'map': 0, 'store_id': u'04132', 'title': u'test'}, {'tid': u'hx3j7LXp', 'map': 0, 'store_id': u'adam', 'title': u'test'}, {'tid': u'1ZD7o8fS', 'map': 0, 'store_id': u'amostylegogo', 'title': u'test'}, {'tid': u'58fGIheY', 'map': 0, 'store_id': u'asao0000', 'title': u'test'}, {'tid': u'4nKMKnkA', 'map': 0, 'store_id': u'asao0408', 'title': u'test'}, {'tid': u'BZ15ZpTc', 'map': 0, 'store_id': u'asao0412', 'title': u'test'}, {'tid': u'7LPrHOzW', 'map': 0, 'store_id': u'asao04123', 'title': u'test'}, {'tid': u'ByB8tkmn', 'map': 0, 'store_id': u'asao0413', 'title': u'test'}, {'tid': u'7i4S35ct', 'map': 0, 'store_id': u'asaoaaa', 'title': u'test'}, {'tid': u'9TTHpeFJ', 'map': 0, 'store_id': u'asaoasao', 'title': u'test'}, {'tid': u'4DhR2NER', 'map': 0, 'store_id': u'asaohoge', 'title': u'test'}, {'tid': u'12DvKSOJ', 'map': 0, 'store_id': u'colorpyen', 'title': u'test'}, {'tid': u'13moM0Tx', 'map': 0, 'store_id': u'for-polly', 'title': u'test'}, {'tid': u'7iUHEL9Z', 'map': 0, 'store_id': u'hous', 'title': u'test'}, {'tid': u'tO5t2724', 'map': 0, 'store_id': u'intl-hk', 'title': u'test'}, {'tid': u'16j51xyo', 'map': 0, 'store_id': u'intl-ja', 'title': u'test'}, {'tid': u'6Kf2zwWg', 'map': 0, 'store_id': u'intl-th', 'title': u'test'}, {'tid': u'1qExmqaa', 'map': 0, 'store_id': u'intl-tw', 'title': u'test'}, {'tid': u'CCQHuiFS', 'map': 0, 'store_id': u'intl-us', 'title': u'test'}, {'tid': u'7eQ5EGmW', 'map': 0, 'store_id': u'jchien-design', 'title': u'test'}]\n",
      "testother\n",
      "[]\n"
     ]
    },
    {
     "name": "stderr",
     "output_type": "stream",
     "text": [
      "- - - [30/Sep/2017:12:48:57 +0800] - - - - - [SQL] \"0.001s\" \"SELECT `anniv`.`tid` AS `tid`, `anniv`.`map` AS `map`, `title`, `store_id` FROM `campaign_anniv_2017_items` AS `anniv` INNER JOIN `item` ON `quantity` > 0 AND `anniv`.`tid` = `item`.`tid` AND `archive` = 0 WHERE `key_id` = 'testother' AND `geo_locale` = 'TW' ORDER BY `seq` LIMIT 24\"\n"
     ]
    }
   ],
   "source": [
    "for key in keys:\n",
    "    print key\n",
    "    print anniv_2017.get_event_items(key, 'TW')"
   ]
  },
  {
   "cell_type": "code",
   "execution_count": 9,
   "metadata": {},
   "outputs": [
    {
     "name": "stdout",
     "output_type": "stream",
     "text": [
      "{\"link\": \"/event/anniversary_2017\", \"title\": \"2017 \\u9031\\u5e74\\u6176\"}\n"
     ]
    }
   ],
   "source": [
    "print anniv_2017.get_nav_item(is_mobile=True)"
   ]
  },
  {
   "cell_type": "code",
   "execution_count": null,
   "metadata": {
    "collapsed": true
   },
   "outputs": [],
   "source": []
  }
 ],
 "metadata": {
  "kernelspec": {
   "display_name": "Pinkoi",
   "language": "python",
   "name": "my_python2"
  },
  "language_info": {
   "codemirror_mode": {
    "name": "ipython",
    "version": 2
   },
   "file_extension": ".py",
   "mimetype": "text/x-python",
   "name": "python",
   "nbconvert_exporter": "python",
   "pygments_lexer": "ipython2",
   "version": "2.7.3"
  }
 },
 "nbformat": 4,
 "nbformat_minor": 2
}
