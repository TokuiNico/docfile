{
 "cells": [
  {
   "cell_type": "code",
   "execution_count": 1,
   "metadata": {},
   "outputs": [
    {
     "name": "stdout",
     "output_type": "stream",
     "text": [
      "/home/chihyu_lin/pinkoi\n"
     ]
    }
   ],
   "source": [
    "cd ~/pinkoi/"
   ]
  },
  {
   "cell_type": "code",
   "execution_count": 8,
   "metadata": {
    "collapsed": true
   },
   "outputs": [],
   "source": [
    "from mosql import query\n",
    "from mosql.query import select\n",
    "from mosql.query import join\n",
    "from mosql.util import raw"
   ]
  },
  {
   "cell_type": "code",
   "execution_count": 10,
   "metadata": {},
   "outputs": [
    {
     "name": "stdout",
     "output_type": "stream",
     "text": [
      "SELECT count(1) FROM \"pinboard\" INNER JOIN \"pinboard_item\" ON \"pinboard_item\".\"pinboard_tid\" = \"pinboard\".\"tid\" WHERE \"pinboard_item\".\"item_tid\" = '1lRPrBtF'\n"
     ]
    }
   ],
   "source": [
    "tid = '1lRPrBtF'\n",
    "sql = select(\n",
    "    'pinboard',\n",
    "    columns=(raw('count(1)')),\n",
    "    joins=join(\n",
    "        'pinboard_item',\n",
    "        on={'pinboard_item.pinboard_tid':'pinboard.tid'}),\n",
    "    where={\n",
    "        'pinboard_item.item_tid': tid\n",
    "    }\n",
    ")\n",
    "print sql"
   ]
  },
  {
   "cell_type": "code",
   "execution_count": 11,
   "metadata": {
    "collapsed": true
   },
   "outputs": [],
   "source": [
    "from pinkoi.base import notification"
   ]
  },
  {
   "cell_type": "code",
   "execution_count": 15,
   "metadata": {},
   "outputs": [
    {
     "name": "stderr",
     "output_type": "stream",
     "text": [
      "Start executing task(evt.send_mail) : {'when': 1508998999, 'what': 'send_mail', 'params': \"(dp1\\nS'body'\\np2\\nS''\\nsS'to'\\np3\\nS'chih-yu.lin@pinkoi.com'\\np4\\nsS'html'\\np5\\nS'<h1>hello would!</h>'\\np6\\nsS'subject'\\np7\\nS'\\\\xe6\\\\xb8\\\\xac\\\\xe8\\\\xa9\\\\xa6\\\\xe7\\\\xb3\\\\xbb\\\\xe7\\\\xb5\\\\xb1\\\\xe5\\\\xaf\\\\x84\\\\xe4\\\\xbf\\\\xa1'\\np8\\ns.\"} \n",
      "Done executing task(evt.send_mail) : {'when': 1508998999, 'what': 'send_mail', 'params': \"(dp1\\nS'body'\\np2\\nS''\\nsS'to'\\np3\\nS'chih-yu.lin@pinkoi.com'\\np4\\nsS'html'\\np5\\nS'<h1>hello would!</h>'\\np6\\nsS'subject'\\np7\\nS'\\\\xe6\\\\xb8\\\\xac\\\\xe8\\\\xa9\\\\xa6\\\\xe7\\\\xb3\\\\xbb\\\\xe7\\\\xb5\\\\xb1\\\\xe5\\\\xaf\\\\x84\\\\xe4\\\\xbf\\\\xa1'\\np8\\ns.\"} \n"
     ]
    }
   ],
   "source": [
    "notification.send_mail_async(\n",
    "    subject='測試系統寄信',\n",
    "    body='',\n",
    "    html='<h1>hello would!</h>',\n",
    "    to='chih-yu.lin@pinkoi.com'\n",
    ")"
   ]
  },
  {
   "cell_type": "code",
   "execution_count": 2,
   "metadata": {},
   "outputs": [
    {
     "name": "stderr",
     "output_type": "stream",
     "text": [
      "- - - [26/Oct/2017:16:15:55 +0800] - - - - - [SQL] \"0.000s\" \"select config from `listing_rank_region_config` where id = \"reindex\"\"\n"
     ]
    },
    {
     "name": "stdout",
     "output_type": "stream",
     "text": [
      "\n",
      "\n",
      "<!DOCTYPE html>\n",
      "\n",
      "<html>\n",
      "    <head>\n",
      "        <meta http-equiv=\"Content-Type\" content=\"text/html; charset=utf-8\">\n",
      "        <meta name=\"viewport\" content=\"width=device-width, user-scalable=no\">\n",
      "\n",
      "\n",
      "<!--[if mso]>\n",
      "<style type=\"text/css\">\n",
      ".mso .button {\n",
      "    border: 0 !important;\n",
      "    margin: 0 !important;\n",
      "}\n",
      "</style>\n",
      "<![endif]-->\n",
      "\n",
      "<style type=\"text/css\">\n",
      "</style>\n",
      "\n",
      "\n",
      "    </head>\n",
      "\n",
      "    <body style=\"Margin: 0 0 0 0; padding: 0 0 0 0;\">\n",
      "\n",
      "        \n",
      "\n",
      "        <!--[if mso]>\n",
      "        <table class=\"mso\" bgcolor=\"#F2F2F2\" width=\"100%\" style=\"background-color: #F2F2F2;\" cellpadding=\"0\" cellspacing=\"0\"><tr><td>\n",
      "        <![endif]-->\n",
      "        <div class=\"outer-container\" align=\"center\" style=\"\n",
      "            -webkit-text-size-adjust: none;\n",
      "            -ms-text-size-adjust: none;\n",
      "            font-family: Helvetica, Arial, sans-serif;\n",
      "            font-size: 16px;\n",
      "            background-color: #F2F2F2;\n",
      "        \">\n",
      "\n",
      "            <!--[if mso]>\n",
      "            <table width=\"600\" cellpadding=\"0\" cellspacing=\"0\"><tr><td>\n",
      "            <![endif]-->\n",
      "            <div class=\"inner-container\" style=\"\n",
      "                max-width: 600px;\n",
      "                overflow: hidden;\n",
      "            \">\n",
      "\n",
      "\n",
      "<!--[if mso]>\n",
      "<table width=\"100%\" cellpadding=\"0\" cellspacing=\"0\"><tr><td style=\"padding: 30px 0 0 0; background-color: #FFFFFF;\">\n",
      "<![endif]-->\n",
      "\n",
      "\n",
      "    <div class=\"header\" align=\"center\" style=\"padding: 30px 0 33px 0; background-color: #FFFFFF; border-bottom: 3px solid #FE5B8E;\">\n",
      "        <a style=\"text-decoration: none;\" href=\"https://www.chihyulin.office.pinkoi.com/proxy?url=https%3A%2F%2Fwww.chihyulin.office.pinkoi.com%2F\">\n",
      "        <img border=\"0\" width=\"200\" style=\"outline: 0; border: 0; min-height: auto !important; vertical-align: middle;\" src=\"https://cdn04.pinkoi.com/pinkoi.email/general/logo.png\">\n",
      "\n",
      "\n",
      "    </a>\n",
      "</div>\n",
      "<!--[if mso]>\n",
      "</td></tr></table>\n",
      "<![endif]-->\n",
      "\n",
      "\n",
      "\n",
      "<!--[if mso]>\n",
      "<table width=\"100%\" cellpadding=\"0\" cellspacing=\"0\"><tr><td style=\"\n",
      "    background-color: #FFFFFF;\n",
      "    padding: 44px 5%;\n",
      "\">\n",
      "<![endif]-->\n",
      "<div class=\"body\" style=\"\n",
      "    background-color: #FFFFFF;\n",
      "    padding: 44px 5%;\n",
      "    font-size: 18px;\n",
      "    line-height: 28px;\n",
      "    color: #000000;\n",
      "    text-align: left;\n",
      "\">\n",
      "    \n",
      "\n",
      "\n",
      "<b>以下 pinboard 的商品被降排序囉：</b>\n",
      "\n",
      "    <div>\n",
      "        item: <a href=\"https://www.chihyulin.office.pinkoi.com/product/abs\">abs</a>\n",
      "        pinboard: <a href=\"https://www.chihyulin.office.pinkoi.com/admin/pinboard/editor?tid=ccc\">ccc</a>\n",
      "    <div>\n",
      "    <div>\n",
      "        item: <a href=\"https://www.chihyulin.office.pinkoi.com/product/123\">123</a>\n",
      "        pinboard: <a href=\"https://www.chihyulin.office.pinkoi.com/admin/pinboard/editor?tid=dfdf\">dfdf</a>\n",
      "    <div>\n",
      "\n",
      "</div>\n",
      "<!--[if mso]>\n",
      "</td></tr></table>\n",
      "<![endif]-->\n",
      "\n",
      "<!--[if mso]>\n",
      "<table width=\"100%\" cellpadding=\"0\" cellspacing=\"0\"><tr><td style=\"padding: 30px 5% 80px;\">\n",
      "<![endif]-->\n",
      "<div class=\"footer\" align=\"center\" style=\"padding: 50px 5% 60px; font-size: 14px; line-height: 22px; color: #444444;\">\n",
      "\n",
      "    <div style=\"Margin-bottom: 30px;\">\n",
      "    <div style=\"text-align: center;\">\n",
      "        <a style=\"color: #444444; font-size: 20px; font-weight: bold; text-decoration: none;\" href=\"https://pinkoi.com\" target=\"_blank\">\n",
      "            Pinkoi\n",
      "        </a>\n",
      "    </div>\n",
      "    <div style=\"Margin: 10px 0 0 0; text-align: center;\">\n",
      "        <span style=\"font-size: 15px; color: #444444; line-height: 24px; letter-spacing: 1px;\">\n",
      "            用好設計實現美感生活\n",
      "        </span>\n",
      "    </div>\n",
      "</div><!--[if mso]><table width=\"255\" cellpadding=\"0\" cellspacing=\"0\"><tr><td style=\"padding-bottom: 26px;\"><![endif]--><div style=\"max-width: 255px; padding-bottom: 26px; line-height: 0;\"><!--[if mso]><table width=\"100%\" cellpadding=\"0\" cellspacing=\"0\"><tr><td width=\"120\" stlye=\"padding-right: 5%;\"><![endif]--><a style=\"display: inline-block; width: 47.5%; padding-right: 5%;\" target=\"_blank\" href=\"https://itunes.apple.com/app/pinkoi/id557252416\"><img width=\"120\" style=\"width: 100%;\" alt=\"App Store\" src=\"http://cdn04.pinkoi.com/pinkoi.email/general/footer/img_app_v2%402x.png\" border=\"0\"></a><!--[if mso]></td><td width=\"120\"><![endif]--><a style=\"display: inline-block; width: 47.5%;\" href=\"https://play.google.com/store/apps/details?id=com.pinkoi\" target=\"_blank\"><img width=\"120\" style=\"width: 100%;\" alt=\"Google Play\" src=\"http://cdn04.pinkoi.com/pinkoi.email/general/footer/img_play_v2%402x.png\" border=\"0\"></a><!--[if mso]></td></tr></table><![endif]--></div><!--[if mso]></td></tr></table><![endif]--><!--[if mso]><table width=\"255\" cellpadding=\"0\" cellspacing=\"0\"><tr><td style=\"padding-bottom: 26px;\"><![endif]--><div style=\"width: 237px; padding-bottom: 50px; line-height: 0;\"><!--[if mso]><table width=\"237\" cellpadding=\"0\" cellspacing=\"0\"><tr><![endif]--><!--[if mso]><td width=\"32\" style=\"padding-right: 18px\"><![endif]--><a style=\"display: inline-block; padding-right: 18px;\" href=\"https://www.facebook.com/ilovepinkoi\" target=\"_blank\" ><img width=\"32\" alt=\"Facebook\" src=\"http://cdn04.pinkoi.com/pinkoi.email/general/footer/badge_facebook_v2%402x.png\" border=\"0\"></a><!--[if mso]></td><![endif]--><!--[if mso]><td width=\"32\" style=\"padding-right: 18px\"><![endif]--><a style=\"display: inline-block; padding-right: 18px;\" href=\"https://www.instagram.com/ilovepinkoi\" target=\"_blank\" ><img width=\"32\" alt=\"Instagram\" src=\"http://cdn04.pinkoi.com/pinkoi.email/general/footer/badge_instagram_v3.png\" border=\"0\"></a><!--[if mso]></td><![endif]--><!--[if mso]><td width=\"32\" style=\"padding-right: 18px\"><![endif]--><a style=\"display: inline-block; padding-right: 18px;\" href=\"https://www.pinterest.com/pinkoi/\" target=\"_blank\" ><img width=\"32\" alt=\"Pinterest\" src=\"http://cdn04.pinkoi.com/pinkoi.email/general/footer/badge_pinterest_v2%402x.png\" border=\"0\"></a><!--[if mso]></td><![endif]--><!--[if mso]><td width=\"32\" style=\"padding-right: 18px\"><![endif]--><a style=\"display: inline-block; padding-right: 18px;\" href=\"https://www.youtube.com/channel/UCZEAIk9o4KM0IgPvikm7wFQ\" target=\"_blank\" ><img width=\"32\" alt=\"Youtube\" src=\"http://cdn04.pinkoi.com/pinkoi.email/general/footer/badge_youtube_v2%402x.png\" border=\"0\"></a><!--[if mso]></td><![endif]--><!--[if mso]><td width=\"32\" style=\"padding-right: 0\"><![endif]--><a style=\"display: inline-block; padding-right: 0;\" href=\"http://weibo.com/pinkoi\" target=\"_blank\" ><img width=\"32\" alt=\"Weibo\" src=\"http://cdn04.pinkoi.com/pinkoi.email/general/footer/badge_weibo_v2%402x.png\" border=\"0\"></a><!--[if mso]></td><![endif]--><!--[if mso]></tr></table><![endif]--></div><!--[if mso]></td></tr></table><![endif]-->\n",
      "\n",
      "    <div style=\"color: #797b7b; Margin-bottom: 30px;\">\n",
      "    這是 Pinkoi 系統發出的信，請不要直接回覆。收到這封信是因為你用此 Email 註冊 Pinkoi 會員，你可以修改通知或者取消訂閱，請到 <a href=\"https://www.chihyulin.office.pinkoi.com/my/unsubscribe\" style=\"color: #797B7B; text-decoration: underline;\">這裡</a> 設定。\n",
      "</div>\n",
      "\n",
      "    <div style=\"font-size: 14px; color: #797b7b; line-height: 1.5; Margin: 21px 0 30px;\">\n",
      "        \n",
      "    </div>\n",
      "\n",
      "    <div class=\"copyrights\" style=\"font-size: 12px; color: #797b7b;\">\n",
      "        © 2017 Pinkoi. All Rights Reserved.\n",
      "    </div>\n",
      "\n",
      "</div>\n",
      "<!--[if mso]>\n",
      "</td></tr></table>\n",
      "<![endif]-->\n",
      "\n",
      "\n",
      "            </div>\n",
      "            <!--[if mso]>\n",
      "            </td></tr></table>\n",
      "            <![endif]-->\n",
      "\n",
      "        </div>\n",
      "        <!--[if mso]>\n",
      "        </td></tr></table>\n",
      "        <![endif]-->\n",
      "\n",
      "        \n",
      "\n",
      "    </body>\n",
      "\n",
      "</html>\n",
      "\n"
     ]
    }
   ],
   "source": [
    "from pinkoi.middleware.mako.shortcut import render_to_string\n",
    "tid_pid_list = (('abs', 'ccc'), ('123','dfdf'))\n",
    "html = render_to_string(\n",
    "    '/rabbitmq/consumers/templates/report_to_content_item_rank.mako',\n",
    "    {'tid_pid_list': tid_pid_list},\n",
    ")\n",
    "print html"
   ]
  },
  {
   "cell_type": "code",
   "execution_count": null,
   "metadata": {
    "collapsed": true
   },
   "outputs": [],
   "source": []
  }
 ],
 "metadata": {
  "kernelspec": {
   "display_name": "Pinkoi",
   "language": "python",
   "name": "my_python2"
  },
  "language_info": {
   "codemirror_mode": {
    "name": "ipython",
    "version": 2
   },
   "file_extension": ".py",
   "mimetype": "text/x-python",
   "name": "python",
   "nbconvert_exporter": "python",
   "pygments_lexer": "ipython2",
   "version": "2.7.3"
  }
 },
 "nbformat": 4,
 "nbformat_minor": 2
}
