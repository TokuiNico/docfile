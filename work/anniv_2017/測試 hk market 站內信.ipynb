{
 "cells": [
  {
   "cell_type": "code",
   "execution_count": 1,
   "metadata": {},
   "outputs": [
    {
     "name": "stdout",
     "output_type": "stream",
     "text": [
      "/home/chihyu_lin/pinkoi\n"
     ]
    }
   ],
   "source": [
    "cd ~/pinkoi"
   ]
  },
  {
   "cell_type": "markdown",
   "metadata": {},
   "source": [
    "# 測試寄中文站內信 #"
   ]
  },
  {
   "cell_type": "code",
   "execution_count": 2,
   "metadata": {},
   "outputs": [
    {
     "name": "stderr",
     "output_type": "stream",
     "text": [
      "- - - [11/Oct/2017:13:49:47 +0800] - - - - - [SQL] \"0.000s\" \"select config from `listing_rank_region_config` where id = \"reindex\"\"\n",
      "[mine] sql sql {'request_time_ms': 0, 'sql': \"update profile set locale = 'zh_TW' where uid = 'vegetable80923' limit 1\"}\n",
      "- - - [11/Oct/2017:13:49:47 +0800] - - - - - [SQL] \"0.000s\" \"update profile set locale = 'zh_TW' where uid = 'vegetable80923' limit 1\"\n",
      "[mine]"
     ]
    },
    {
     "name": "stdout",
     "output_type": "stream",
     "text": [
      "/user\n"
     ]
    },
    {
     "name": "stderr",
     "output_type": "stream",
     "text": [
      " sql sql {'request_time_ms': 0, 'sql': \"update notification_device_token2 set locale = 'zh_TW' where uid = 'vegetable80923'\"}\n",
      "- - - [11/Oct/2017:13:49:47 +0800] - - - - - [SQL] \"0.000s\" \"update notification_device_token2 set locale = 'zh_TW' where uid = 'vegetable80923'\"\n",
      "[mine] sql sql {'request_time_ms': 0, 'sql': \"INSERT INTO message (`viewer`,`title`,`sender`,`description`,`receiver`, created) VALUES ('vegetable80923','Pinkoi Market \\xe7\\xb6\\xb2\\xe4\\xb8\\x8a\\xe5\\x85\\x8d\\xe9\\x81\\x8b\\xe5\\xb8\\x82\\xe9\\x9b\\x86','pinkoi-campaign','\\xe5\\x8d\\xb3\\xe6\\x97\\xa5\\xe8\\xb5\\xb7\\xe8\\x87\\xb3 10 \\xe6\\x9c\\x88 17 \\xe6\\x97\\xa5\\xef\\xbc\\x8c\\xe9\\x80\\x9b Pinkoi \\xe7\\xb6\\xb2\\xe4\\xb8\\x8a\\xe5\\xb8\\x82\\xe9\\x9b\\x86\\xef\\xbc\\x8c\\xe8\\xb6\\x85\\xe9\\x81\\x8e 400 \\xe5\\x80\\x8b\\xe5\\x93\\x81\\xe7\\x89\\x8c\\xe4\\xbb\\xbb\\xe4\\xbd\\xa0\\xe6\\x8f\\x80\\xef\\xbc\\x81\\xe8\\xb2\\xb7\\xe6\\xbb\\xbf HK$300\\xef\\xbc\\x8c\\xe5\\x8d\\xb3\\xe4\\xba\\xab\\xe5\\x85\\x8d\\xe9\\x81\\x8b\\xe5\\x84\\xaa\\xe6\\x83\\xa0\\xef\\xbc\\x8c\\xe5\\xbf\\x83\\xe9\\xa0\\xad\\xe5\\xa5\\xbd\\xe7\\x9c\\xa8\\xe7\\x9c\\xbc\\xe9\\x80\\x81\\xe5\\x88\\xb0\\xe9\\x96\\x80\\xe5\\x8f\\xa3\\xef\\xbc\\x81\\\\nhttps://pinkoi.com/search/hkmarket\\\\n\\\\n\\xe5\\x8f\\xa6\\xe5\\xa4\\x96\\xef\\xbc\\x8c\\xe5\\x88\\xa5\\xe5\\xbf\\x98\\xe4\\xba\\x86 24 \\xe5\\xb0\\x8f\\xe6\\x99\\x82\\xe5\\x85\\xa7\\xef\\xbc\\x8c\\xe4\\xbd\\xa0\\xe7\\x9a\\x84\\xe7\\xac\\xac\\xe4\\xb8\\x80\\xe6\\xac\\xa1\\xe8\\xb3\\xbc\\xe7\\x89\\xa9\\xe5\\x8f\\xaf\\xe4\\xba\\xab 95 \\xe6\\x8a\\x98\\xe5\\x84\\xaa\\xe6\\x83\\xa0\\xef\\xbc\\x81','vegetable80923', NOW())\"}\n",
      "- - - [11/Oct/2017:13:49:47 +0800] - - - - - [SQL] \"0.000s\" \"INSERT INTO message (`viewer`,`title`,`sender`,`description`,`receiver`, created) VALUES ('vegetable80923','Pinkoi Market 網上免運市集','pinkoi-campaign','即日起至 10 月 17 日，逛 Pinkoi 網上市集，超過 400 個品牌任你揀！買滿 HK$300，即享免運優惠，心頭好眨眼送到門口！\\nhttps://pinkoi.com/search/hkmarket\\n\\n另外，別忘了 24 小時內，你的第一次購物可享 95 折優惠！','vegetable80923', NOW())\"\n",
      "Initializing the AsyncQ with queue size 100, thread pool(1)\n",
      "Start executing task(evt.message) : {'what': 'message', 'description': '\\xe5\\x8d\\xb3\\xe6\\x97\\xa5\\xe8\\xb5\\xb7\\xe8\\x87\\xb3 10 \\xe6\\x9c\\x88 17 \\xe6\\x97\\xa5\\xef\\xbc\\x8c\\xe9\\x80\\x9b Pinkoi \\xe7\\xb6\\xb2\\xe4\\xb8\\x8a\\xe5\\xb8\\x82\\xe9\\x9b\\x86\\xef\\xbc\\x8c\\xe8\\xb6\\x85\\xe9\\x81\\x8e 400 \\xe5\\x80\\x8b\\xe5\\x93\\x81\\xe7\\x89\\x8c\\xe4\\xbb\\xbb\\xe4\\xbd\\xa0\\xe6\\x8f\\x80\\xef\\xbc\\x81\\xe8\\xb2\\xb7\\xe6\\xbb\\xbf HK$300\\xef\\xbc\\x8c\\xe5\\x8d\\xb3\\xe4\\xba\\xab\\xe5\\x85\\x8d\\xe9\\x81\\x8b\\xe5\\x84\\xaa\\xe6\\x83\\xa0\\xef\\xbc\\x8c\\xe5\\xbf\\x83\\xe9\\xa0\\xad\\xe5\\xa5\\xbd\\xe7\\x9c\\xa8\\xe7\\x9c\\xbc\\xe9\\x80\\x81\\xe5\\x88\\xb0\\xe9\\x96\\x80\\xe5\\x8f\\xa3\\xef\\xbc\\x81\\nhttps://pinkoi.com/search/hkmarket\\n\\n\\xe5\\x8f\\xa6\\xe5\\xa4\\x96\\xef\\xbc\\x8c\\xe5\\x88\\xa5\\xe5\\xbf\\x98\\xe4\\xba\\x86 24 \\xe5\\xb0\\x8f\\xe6\\x99\\x82\\xe5\\x85\\xa7\\xef\\xbc\\x8c\\xe4\\xbd\\xa0\\xe7\\x9a\\x84\\xe7\\xac\\xac\\xe4\\xb8\\x80\\xe6\\xac\\xa1\\xe8\\xb3\\xbc\\xe7\\x89\\xa9\\xe5\\x8f\\xaf\\xe4\\xba\\xab 95 \\xe6\\x8a\\x98\\xe5\\x84\\xaa\\xe6\\x83\\xa0\\xef\\xbc\\x81', 'title': 'Pinkoi Market \\xe7\\xb6\\xb2\\xe4\\xb8\\x8a\\xe5\\x85\\x8d\\xe9\\x81\\x8b\\xe5\\xb8\\x82\\xe9\\x9b\\x86', 'who': 'pinkoi-campaign', 'when': 1507700987, 'mid': 13148L, 'where': u'vegetable80923'} \n",
      "Done executing task(evt.message) : {'what': 'message', 'description': '\\xe5\\x8d\\xb3\\xe6\\x97\\xa5\\xe8\\xb5\\xb7\\xe8\\x87\\xb3 10 \\xe6\\x9c\\x88 17 \\xe6\\x97\\xa5\\xef\\xbc\\x8c\\xe9\\x80\\x9b Pinkoi \\xe7\\xb6\\xb2\\xe4\\xb8\\x8a\\xe5\\xb8\\x82\\xe9\\x9b\\x86\\xef\\xbc\\x8c\\xe8\\xb6\\x85\\xe9\\x81\\x8e 400 \\xe5\\x80\\x8b\\xe5\\x93\\x81\\xe7\\x89\\x8c\\xe4\\xbb\\xbb\\xe4\\xbd\\xa0\\xe6\\x8f\\x80\\xef\\xbc\\x81\\xe8\\xb2\\xb7\\xe6\\xbb\\xbf HK$300\\xef\\xbc\\x8c\\xe5\\x8d\\xb3\\xe4\\xba\\xab\\xe5\\x85\\x8d\\xe9\\x81\\x8b\\xe5\\x84\\xaa\\xe6\\x83\\xa0\\xef\\xbc\\x8c\\xe5\\xbf\\x83\\xe9\\xa0\\xad\\xe5\\xa5\\xbd\\xe7\\x9c\\xa8\\xe7\\x9c\\xbc\\xe9\\x80\\x81\\xe5\\x88\\xb0\\xe9\\x96\\x80\\xe5\\x8f\\xa3\\xef\\xbc\\x81\\nhttps://pinkoi.com/search/hkmarket\\n\\n\\xe5\\x8f\\xa6\\xe5\\xa4\\x96\\xef\\xbc\\x8c\\xe5\\x88\\xa5\\xe5\\xbf\\x98\\xe4\\xba\\x86 24 \\xe5\\xb0\\x8f\\xe6\\x99\\x82\\xe5\\x85\\xa7\\xef\\xbc\\x8c\\xe4\\xbd\\xa0\\xe7\\x9a\\x84\\xe7\\xac\\xac\\xe4\\xb8\\x80\\xe6\\xac\\xa1\\xe8\\xb3\\xbc\\xe7\\x89\\xa9\\xe5\\x8f\\xaf\\xe4\\xba\\xab 95 \\xe6\\x8a\\x98\\xe5\\x84\\xaa\\xe6\\x83\\xa0\\xef\\xbc\\x81', 'title': 'Pinkoi Market \\xe7\\xb6\\xb2\\xe4\\xb8\\x8a\\xe5\\x85\\x8d\\xe9\\x81\\x8b\\xe5\\xb8\\x82\\xe9\\x9b\\x86', 'who': 'pinkoi-campaign', 'when': 1507700987, 'mid': 13148L, 'where': u'vegetable80923'} \n"
     ]
    }
   ],
   "source": [
    "from pinkoi.models.User import User\n",
    "from pinkoi.base.campaign import hk_market_fair\n",
    "u = User('vegetable80923')\n",
    "u.set_locale('zh_TW')\n",
    "\n",
    "hk_market_fair.send_inbox_message(u)"
   ]
  },
  {
   "cell_type": "markdown",
   "metadata": {},
   "source": [
    "# 測試英文站內信 "
   ]
  },
  {
   "cell_type": "code",
   "execution_count": 3,
   "metadata": {},
   "outputs": [
    {
     "name": "stderr",
     "output_type": "stream",
     "text": [
      "[mine] sql sql {'request_time_ms': 0, 'sql': \"update profile set locale = 'en' where uid = 'vegetable80923' limit 1\"}\n",
      "- - - [11/Oct/2017:13:49:47 +0800] - - - - - [SQL] \"0.000s\" \"update profile set locale = 'en' where uid = 'vegetable80923' limit 1\"\n",
      "[mine] sql sql {'request_time_ms': 12, 'sql': \"update notification_device_token2 set locale = 'en' where uid = 'vegetable80923'\"}\n",
      "- - - [11/Oct/2017:13:49:47 +0800] - - - - - [SQL] \"0.012s\" \"update notification_device_token2 set locale = 'en' where uid = 'vegetable80923'\"\n",
      "[mine] sql sql {'request_time_ms': 0, 'sql': \"INSERT INTO message (`viewer`,`title`,`sender`,`description`,`receiver`, created) VALUES ('vegetable80923','Free Shipping Promotion','pinkoi-campaign','Enjoy free local shipping with purchase over HK$300 during 13-17 Oct.\\\\nhttps://pinkoi.com/search/hkmarket\\\\n\\\\nDon\\\\'t forget you can get 5% off your first purchase made within 24 hours.','vegetable80923', NOW())\"}\n",
      "- - - [11/Oct/2017:13:49:47 +0800] - - - - - [SQL] \"0.000s\" \"INSERT INTO message (`viewer`,`title`,`sender`,`description`,`receiver`, created) VALUES ('vegetable80923','Free Shipping Promotion','pinkoi-campaign','Enjoy free local shipping with purchase over HK$300 during 13-17 Oct.\\nhttps://pinkoi.com/search/hkmarket\\n\\nDon\\'t forget you can get 5% off your first purchase made within 24 hours.','vegetable80923', NOW())\"\n"
     ]
    }
   ],
   "source": [
    "u.set_locale('en')\n",
    "hk_market_fair.send_inbox_message(u)"
   ]
  },
  {
   "cell_type": "code",
   "execution_count": null,
   "metadata": {
    "collapsed": true
   },
   "outputs": [],
   "source": []
  }
 ],
 "metadata": {
  "kernelspec": {
   "display_name": "Pinkoi",
   "language": "python",
   "name": "my_python2"
  },
  "language_info": {
   "codemirror_mode": {
    "name": "ipython",
    "version": 2
   },
   "file_extension": ".py",
   "mimetype": "text/x-python",
   "name": "python",
   "nbconvert_exporter": "python",
   "pygments_lexer": "ipython2",
   "version": "2.7.3"
  }
 },
 "nbformat": 4,
 "nbformat_minor": 2
}
