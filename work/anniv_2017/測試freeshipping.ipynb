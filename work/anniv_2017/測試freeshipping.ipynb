{
 "cells": [
  {
   "cell_type": "code",
   "execution_count": 1,
   "metadata": {},
   "outputs": [
    {
     "name": "stdout",
     "output_type": "stream",
     "text": [
      "/home/chihyu_lin/pinkoi\n"
     ]
    }
   ],
   "source": [
    "cd ~/pinkoi/"
   ]
  },
  {
   "cell_type": "code",
   "execution_count": 2,
   "metadata": {
    "collapsed": true
   },
   "outputs": [],
   "source": [
    "from pinkoi.base.campaign import anniversary_2017_sids as anniv_sids"
   ]
  },
  {
   "cell_type": "code",
   "execution_count": 3,
   "metadata": {},
   "outputs": [
    {
     "name": "stdout",
     "output_type": "stream",
     "text": [
      "1\n"
     ]
    }
   ],
   "source": [
    "total_freeshipping_sids = []\n",
    "for sids in anniv_sids.SIDS_FREE_SHIPPING.itervalues():\n",
    "    total_freeshipping_sids.extend(sids)\n",
    "\n",
    "total_freeshipping_sids = set(total_freeshipping_sids)\n",
    "print len(total_freeshipping_sids)"
   ]
  },
  {
   "cell_type": "code",
   "execution_count": 4,
   "metadata": {},
   "outputs": [
    {
     "name": "stdout",
     "output_type": "stream",
     "text": [
      "1\n",
      "1\n",
      "1\n"
     ]
    }
   ],
   "source": [
    "discount_shipping_sids = set(anniv_sids.THE_SIX_SHIPPING_50P_SIDS)\n",
    "print len(total_freeshipping_sids)\n",
    "print len(discount_shipping_sids)\n",
    "print len(total_freeshipping_sids & discount_shipping_sids)"
   ]
  },
  {
   "cell_type": "code",
   "execution_count": 3,
   "metadata": {},
   "outputs": [
    {
     "name": "stdout",
     "output_type": "stream",
     "text": [
      "defaultdict(<type 'set'>, {'sid1': set(['cc', '123', 'bb', 'ddd']), 'sid2': set(['123', 'ddd']), 'sid3': set(['cc', 'bb'])})\n",
      "sid1 set(['cc', '123', 'bb', 'ddd'])\n",
      "sid2 set(['123', 'ddd'])\n",
      "sid3 set(['cc', 'bb'])\n"
     ]
    }
   ],
   "source": [
    "from pinkoi.cron import anniv_shipping_discount\n",
    "d = {('123', 'ddd'): ('sid1', 'sid2'), ('bb', 'cc'): ('sid1', 'sid3')}\n",
    "print anniv_shipping_discount._get_sid_geos_map(d)\n",
    "for sid, geos in anniv_shipping_discount._get_sid_geos_map(d).iteritems():\n",
    "    print sid, geos"
   ]
  },
  {
   "cell_type": "code",
   "execution_count": null,
   "metadata": {
    "collapsed": true
   },
   "outputs": [],
   "source": []
  }
 ],
 "metadata": {
  "kernelspec": {
   "display_name": "Pinkoi",
   "language": "python",
   "name": "my_python2"
  },
  "language_info": {
   "codemirror_mode": {
    "name": "ipython",
    "version": 2
   },
   "file_extension": ".py",
   "mimetype": "text/x-python",
   "name": "python",
   "nbconvert_exporter": "python",
   "pygments_lexer": "ipython2",
   "version": "2.7.3"
  }
 },
 "nbformat": 4,
 "nbformat_minor": 2
}
