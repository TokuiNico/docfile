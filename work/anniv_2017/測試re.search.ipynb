{
 "cells": [
  {
   "cell_type": "code",
   "execution_count": 33,
   "metadata": {},
   "outputs": [
    {
     "name": "stdout",
     "output_type": "stream",
     "text": [
      "/home/chihyu_lin/pinkoi\n"
     ]
    }
   ],
   "source": [
    "cd ~/pinkoi/"
   ]
  },
  {
   "cell_type": "code",
   "execution_count": 35,
   "metadata": {},
   "outputs": [
    {
     "name": "stdout",
     "output_type": "stream",
     "text": [
      "5/21前，首購 5% 優惠，最高折 50 元| 12334243\n",
      "test\n",
      "test\n"
     ]
    }
   ],
   "source": [
    "import re\n",
    "from pinkoi.base.utils import ensure_utf8\n",
    "addnl_note = u'5/21前，首購 5% 優惠，最高折 50 元; 12334243'\n",
    "addnl_note_pattern = u'{}'.format(u'|'.join(addnl_note.split(';')))\n",
    "print addnl_note_pattern\n",
    "utf8_memo = ensure_utf8(u'5/21前，首購 5% 優惠，最高折 50 元')\n",
    "\n",
    "\n",
    "if re.search(utf8_memo, ensure_utf8(addnl_note_pattern)):\n",
    "    print 'test'\n",
    "\n",
    "if re.search(ensure_utf8(addnl_note_pattern), utf8_memo):\n",
    "    print 'test'"
   ]
  },
  {
   "cell_type": "code",
   "execution_count": 36,
   "metadata": {},
   "outputs": [
    {
     "data": {
      "text/plain": [
       "<_sre.SRE_Match at 0x4ce7300>"
      ]
     },
     "execution_count": 36,
     "metadata": {},
     "output_type": "execute_result"
    }
   ],
   "source": [
    "re.search(\"(^a|c)\", \"abcdef\")"
   ]
  },
  {
   "cell_type": "code",
   "execution_count": null,
   "metadata": {
    "collapsed": true
   },
   "outputs": [],
   "source": []
  },
  {
   "cell_type": "code",
   "execution_count": null,
   "metadata": {
    "collapsed": true
   },
   "outputs": [],
   "source": []
  }
 ],
 "metadata": {
  "kernelspec": {
   "display_name": "Pinkoi",
   "language": "python",
   "name": "my_python2"
  },
  "language_info": {
   "codemirror_mode": {
    "name": "ipython",
    "version": 2
   },
   "file_extension": ".py",
   "mimetype": "text/x-python",
   "name": "python",
   "nbconvert_exporter": "python",
   "pygments_lexer": "ipython2",
   "version": "2.7.3"
  }
 },
 "nbformat": 4,
 "nbformat_minor": 2
}
